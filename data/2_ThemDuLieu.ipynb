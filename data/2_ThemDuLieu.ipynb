{
    "metadata": {
        "kernelspec": {
            "name": "SQL",
            "display_name": "SQL",
            "language": "sql"
        },
        "language_info": {
            "name": "sql",
            "version": ""
        }
    },
    "nbformat_minor": 2,
    "nbformat": 4,
    "cells": [
        {
            "cell_type": "code",
            "source": [
                "DELETE NguoiDung;\r\n",
                "DELETE ROLE;"
            ],
            "metadata": {
                "azdata_cell_guid": "fb32350d-98ef-488d-8a1d-41a6f382f2ea",
                "language": "sql",
                "tags": []
            },
            "outputs": [
                {
                    "output_type": "display_data",
                    "data": {
                        "text/html": "(2 rows affected)"
                    },
                    "metadata": {}
                },
                {
                    "output_type": "display_data",
                    "data": {
                        "text/html": "(0 rows affected)"
                    },
                    "metadata": {}
                },
                {
                    "output_type": "display_data",
                    "data": {
                        "text/html": "Total execution time: 00:00:00.007"
                    },
                    "metadata": {}
                }
            ],
            "execution_count": 1
        },
        {
            "cell_type": "code",
            "source": [
                "-- Insert rows into table 'ROLE' in schema '[dbo]'\r\n",
                "INSERT INTO [dbo].[ROLE]\r\n",
                "( -- Columns to insert data into\r\n",
                " [RoleID], [RoleName]\r\n",
                ")\r\n",
                "VALUES\r\n",
                "( -- First row: values for the columns in the list above\r\n",
                " '000','ADMIN'\r\n",
                "),\r\n",
                "( -- Second row: values for the columns in the list above\r\n",
                " '001','USER'\r\n",
                ")\r\n",
                "-- Add more rows here\r\n",
                "GO"
            ],
            "metadata": {
                "azdata_cell_guid": "85175ca5-b758-4959-a53d-db2c12c9c765",
                "language": "sql"
            },
            "outputs": [
                {
                    "output_type": "display_data",
                    "data": {
                        "text/html": "(2 rows affected)"
                    },
                    "metadata": {}
                },
                {
                    "output_type": "display_data",
                    "data": {
                        "text/html": "Total execution time: 00:00:00.004"
                    },
                    "metadata": {}
                }
            ],
            "execution_count": 2
        },
        {
            "cell_type": "code",
            "source": [
                "INSERT INTO [dbo].[NguoiDung]\r\n",
                "( -- Columns to insert data into\r\n",
                " [MaNguoiDung], [TenDangNhap], [MatKhau],[RoleID]\r\n",
                ")\r\n",
                "VALUES\r\n",
                "( -- First row: values for the columns in the list above\r\n",
                " 'test_user','ngocphat','ngocphat','001'\r\n",
                "),\r\n",
                "(\r\n",
                "     '000','nimda','ngocphat','000'\r\n",
                ")\r\n",
                "\r\n",
                "-- Add more rows here\r\n",
                "GO"
            ],
            "metadata": {
                "language": "sql",
                "azdata_cell_guid": "3ddda821-3767-4493-8810-25435dc8b98b"
            },
            "outputs": [
                {
                    "output_type": "display_data",
                    "data": {
                        "text/html": "(2 rows affected)"
                    },
                    "metadata": {}
                },
                {
                    "output_type": "display_data",
                    "data": {
                        "text/html": "Total execution time: 00:00:00.003"
                    },
                    "metadata": {}
                }
            ],
            "execution_count": 3
        },
        {
            "cell_type": "code",
            "source": [
                "SELECT * FROM NguoiDung"
            ],
            "metadata": {
                "azdata_cell_guid": "b003c786-6fb6-4e7a-9066-4025b7feffaf",
                "language": "sql"
            },
            "outputs": [
                {
                    "output_type": "display_data",
                    "data": {
                        "text/html": "(2 rows affected)"
                    },
                    "metadata": {}
                },
                {
                    "output_type": "display_data",
                    "data": {
                        "text/html": "Total execution time: 00:00:00.078"
                    },
                    "metadata": {}
                },
                {
                    "output_type": "execute_result",
                    "metadata": {},
                    "execution_count": 4,
                    "data": {
                        "application/vnd.dataresource+json": {
                            "schema": {
                                "fields": [
                                    {
                                        "name": "MaNguoiDung"
                                    },
                                    {
                                        "name": "TenDangNhap"
                                    },
                                    {
                                        "name": "MatKhau"
                                    },
                                    {
                                        "name": "HoTen"
                                    },
                                    {
                                        "name": "NgaySinh"
                                    },
                                    {
                                        "name": "DiaChi"
                                    },
                                    {
                                        "name": "RoleID"
                                    }
                                ]
                            },
                            "data": [
                                {
                                    "0": "000",
                                    "1": "nimda",
                                    "2": "ngocphat",
                                    "3": "NULL",
                                    "4": "NULL",
                                    "5": "NULL",
                                    "6": "000"
                                },
                                {
                                    "0": "test_user",
                                    "1": "ngocphat",
                                    "2": "ngocphat",
                                    "3": "NULL",
                                    "4": "NULL",
                                    "5": "NULL",
                                    "6": "001"
                                }
                            ]
                        },
                        "text/html": [
                            "<table>",
                            "<tr><th>MaNguoiDung</th><th>TenDangNhap</th><th>MatKhau</th><th>HoTen</th><th>NgaySinh</th><th>DiaChi</th><th>RoleID</th></tr>",
                            "<tr><td>000</td><td>nimda</td><td>ngocphat</td><td>NULL</td><td>NULL</td><td>NULL</td><td>000</td></tr>",
                            "<tr><td>test_user</td><td>ngocphat</td><td>ngocphat</td><td>NULL</td><td>NULL</td><td>NULL</td><td>001</td></tr>",
                            "</table>"
                        ]
                    }
                }
            ],
            "execution_count": 4
        }
    ]
}