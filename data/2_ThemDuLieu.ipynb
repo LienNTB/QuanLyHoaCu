{
    "metadata": {
        "kernelspec": {
            "name": "SQL",
            "display_name": "SQL",
            "language": "sql"
        },
        "language_info": {
            "name": "sql",
            "version": ""
        }
    },
    "nbformat_minor": 2,
    "nbformat": 4,
    "cells": [
        {
            "cell_type": "code",
            "source": [
                "DELETE NguoiDung;\r\n",
                "DELETE ROLE;\r\n",
                "DELETE SanPham;\r\n",
                ""
            ],
            "metadata": {
                "azdata_cell_guid": "fb32350d-98ef-488d-8a1d-41a6f382f2ea",
                "language": "sql",
                "tags": []
            },
            "outputs": [
                {
                    "output_type": "display_data",
                    "data": {
                        "text/html": "(0 rows affected)"
                    },
                    "metadata": {}
                },
                {
                    "output_type": "display_data",
                    "data": {
                        "text/html": "(0 rows affected)"
                    },
                    "metadata": {}
                },
                {
                    "output_type": "display_data",
                    "data": {
                        "text/html": "(0 rows affected)"
                    },
                    "metadata": {}
                },
                {
                    "output_type": "display_data",
                    "data": {
                        "text/html": "Total execution time: 00:00:00.001"
                    },
                    "metadata": {}
                }
            ],
            "execution_count": 16
        },
        {
            "cell_type": "code",
            "source": [
                "-- Insert rows into table 'ROLE' in schema '[dbo]'\r\n",
                "INSERT INTO [dbo].[ROLE]\r\n",
                "( -- Columns to insert data into\r\n",
                " [RoleID], [RoleName]\r\n",
                ")\r\n",
                "VALUES\r\n",
                "( -- First row: values for the columns in the list above\r\n",
                " '000','ADMIN'\r\n",
                "),\r\n",
                "( -- Second row: values for the columns in the list above\r\n",
                " '001','USER'\r\n",
                ")\r\n",
                "-- Add more rows here\r\n",
                "GO"
            ],
            "metadata": {
                "azdata_cell_guid": "85175ca5-b758-4959-a53d-db2c12c9c765",
                "language": "sql"
            },
            "outputs": [
                {
                    "output_type": "display_data",
                    "data": {
                        "text/html": "(2 rows affected)"
                    },
                    "metadata": {}
                },
                {
                    "output_type": "display_data",
                    "data": {
                        "text/html": "Total execution time: 00:00:00.004"
                    },
                    "metadata": {}
                }
            ],
            "execution_count": 17
        },
        {
            "cell_type": "code",
            "source": [
                "INSERT INTO [dbo].[NguoiDung]\r\n",
                "( -- Columns to insert data into\r\n",
                " [MaNguoiDung], [TenDangNhap], [MatKhau],[RoleID]\r\n",
                ")\r\n",
                "VALUES\r\n",
                "( -- First row: values for the columns in the list above\r\n",
                " 'test_user','ngocphat','ngocphat','001'\r\n",
                "),\r\n",
                "(\r\n",
                "     '000','nimda','ngocphat','000'\r\n",
                ")\r\n",
                "\r\n",
                "-- Add more rows here\r\n",
                "GO"
            ],
            "metadata": {
                "language": "sql",
                "azdata_cell_guid": "3ddda821-3767-4493-8810-25435dc8b98b"
            },
            "outputs": [
                {
                    "output_type": "display_data",
                    "data": {
                        "text/html": "(2 rows affected)"
                    },
                    "metadata": {}
                },
                {
                    "output_type": "display_data",
                    "data": {
                        "text/html": "Total execution time: 00:00:00.004"
                    },
                    "metadata": {}
                }
            ],
            "execution_count": 18
        },
        {
            "cell_type": "code",
            "source": [
                "INSERT INTO [dbo].[NguoiDung] (MaNguoiDung, TenDangNhap,MatKhau,HoTen,NgaySinh,DiaChi,RoleID) VALUES ('USER01','quynhhuong1','123',N'Nguyễn Văn u','2002-07-12',N'Thủ Đức','001'),\r\n",
                "('USER02','bichlien2','123',N'Nguyễn Văn s','2002-07-12',N'Thủ Đức','001'),\r\n",
                "('USER03','ngocphat3','123',N'Nguyễn Thị p','2002-07-12',N'Quận 2','001'),\r\n",
                "('USER04','aido4','123',N'Nguyễn Ngọc h','2002-07-12',N'Bình Chánh','001'),\r\n",
                "('USER05','quynhhuong5','123',N'Nguyễn Thị n','2002-07-12',N'Quận 2','001'),\r\n",
                "('USER06','quynhhuong6','123',N'Nguyễn Văn f','2002-07-12',N'Quận 2','001'),\r\n",
                "('USER07','aido7','123',N'Nguyễn Thị s','2002-07-12',N'Thủ Đức','001'),\r\n",
                "('USER08','ngocphat8','123',N'Nguyễn Thị c','2002-07-12',N'Thủ Đức','001'),\r\n",
                "('USER09','quynhhuong9','123',N'Nguyễn Thị r','2002-07-12',N'Quận 2','001'),\r\n",
                "('USER010','ngocphat10','123',N'Nguyễn Văn n','2002-07-12',N'Bình Chánh','001'),\r\n",
                "('USER011','quynhhuong11','123',N'Nguyễn Thị t','2002-07-12',N'Thủ Đức','001'),\r\n",
                "('USER012','aido12','123',N'Nguyễn Ngọc w','2002-07-12',N'Quận 2','001'),\r\n",
                "('USER013','ngocphat13','123',N'Nguyễn Ngọc m','2002-07-12',N'Bình Chánh','001'),\r\n",
                "('USER014','ngocphat14','123',N'Nguyễn Thị o','2002-07-12',N'Quận 9','001'),\r\n",
                "('USER015','bichlien15','123',N'Nguyễn Văn p','2002-07-12',N'Thủ Đức','001'),\r\n",
                "('USER016','quynhhuong16','123',N'Nguyễn Thị r','2002-07-12',N'Bình Chánh','001'),\r\n",
                "('USER017','bichlien17','123',N'Nguyễn Văn o','2002-07-12',N'Bình Chánh','001'),\r\n",
                "('USER018','quynhhuong18','123',N'Nguyễn Thị h','2002-07-12',N'Quận 2','001'),\r\n",
                "('USER019','bichlien19','123',N'Nguyễn Ngọc j','2002-07-12',N'Bình Chánh','001'),\r\n",
                "('USER020','aido20','123',N'Nguyễn Thị o','2002-07-12',N'Thủ Đức','001')\r\n",
                ""
            ],
            "metadata": {
                "language": "sql",
                "azdata_cell_guid": "5d6e1bd0-f655-4732-8197-98e7aee25d7a"
            },
            "outputs": [
                {
                    "output_type": "display_data",
                    "data": {
                        "text/html": "(20 rows affected)"
                    },
                    "metadata": {}
                },
                {
                    "output_type": "display_data",
                    "data": {
                        "text/html": "Total execution time: 00:00:00.006"
                    },
                    "metadata": {}
                }
            ],
            "execution_count": 19
        },
        {
            "cell_type": "code",
            "source": [
                "-- Insert rows into table 'LoaiSanPham' in schema '[dbo]'\r\n",
                "INSERT INTO [dbo].[LoaiSanPham]\r\n",
                "( -- Columns to insert data into\r\n",
                " [MaLoaiSP], [TenLoaiSanPham]\r\n",
                ")\r\n",
                "VALUES\r\n",
                "( -- First row: values for the columns in the list above\r\n",
                "    'test_lsp01','LoaiSanPham01'\r\n",
                "),\r\n",
                "( -- Second row: values for the columns in the list above\r\n",
                "    'test_lsp02','LoaiSanPham02'\r\n",
                "),\r\n",
                "(\r\n",
                "    'test_lsp03','LoaiSanPham03'\r\n",
                ")\r\n",
                "-- Add more rows here\r\n",
                "GO"
            ],
            "metadata": {
                "language": "sql",
                "azdata_cell_guid": "fd44d036-8343-4a8b-8994-7875ddee988c"
            },
            "outputs": [
                {
                    "output_type": "error",
                    "ename": "",
                    "evalue": "Msg 2627, Level 14, State 1, Line 2\r\nViolation of PRIMARY KEY constraint 'PK__LoaiSanP__1224CA7CDFEAA477'. Cannot insert duplicate key in object 'dbo.LoaiSanPham'. The duplicate key value is (test_lsp01).",
                    "traceback": []
                },
                {
                    "output_type": "display_data",
                    "data": {
                        "text/html": "The statement has been terminated."
                    },
                    "metadata": {}
                },
                {
                    "output_type": "display_data",
                    "data": {
                        "text/html": "Total execution time: 00:00:00.008"
                    },
                    "metadata": {}
                }
            ],
            "execution_count": 20
        },
        {
            "cell_type": "code",
            "source": [
                "\r\n",
                "-- Insert rows into table 'LoaiSanPham' in schema '[dbo]'\r\n",
                "INSERT INTO [dbo].[LoaiSanPham]\r\n",
                "( -- Columns to insert data into\r\n",
                " [MaLoaiSP], [TenLoaiSanPham]\r\n",
                ")\r\n",
                "VALUES\r\n",
                "(\r\n",
                "    'lsp00',N'Chưa xác định'\r\n",
                ")\r\n",
                ",\r\n",
                "( -- First row: values for the columns in the list above\r\n",
                "    'lsp01',N'Màu vẽ'\r\n",
                "),\r\n",
                "( -- Second row: values for the columns in the list above\r\n",
                "    'lsp02',N'Giấy vẽ'\r\n",
                "),\r\n",
                "(\r\n",
                "    'lsp03',N'Bút vẽ'\r\n",
                "),\r\n",
                "(\r\n",
                "    'lsp04',N'Phác thảo'\r\n",
                "),\r\n",
                "(\r\n",
                "    'lsp05',N'Văn phòng phẩm'\r\n",
                ")\r\n",
                ",\r\n",
                "(\r\n",
                "    'lsp06',N'Dụng cụ hỗ trợ'\r\n",
                ")\r\n",
                "-- Add"
            ],
            "metadata": {
                "language": "sql",
                "azdata_cell_guid": "dc672f76-5556-4617-b3cb-ef22d68c6c0f"
            },
            "outputs": [
                {
                    "output_type": "error",
                    "ename": "",
                    "evalue": "Msg 2627, Level 14, State 1, Line 3\r\nViolation of PRIMARY KEY constraint 'PK__LoaiSanP__1224CA7CDFEAA477'. Cannot insert duplicate key in object 'dbo.LoaiSanPham'. The duplicate key value is (lsp00).",
                    "traceback": []
                },
                {
                    "output_type": "display_data",
                    "data": {
                        "text/html": "The statement has been terminated."
                    },
                    "metadata": {}
                },
                {
                    "output_type": "display_data",
                    "data": {
                        "text/html": "Total execution time: 00:00:00.004"
                    },
                    "metadata": {}
                }
            ],
            "execution_count": 21
        },
        {
            "cell_type": "code",
            "source": [
                "INSERT INTO [dbo].[HoaDon] (MaHoaDon, GhiChu,TongThanhToan,DiaChiGiaoHang,SoDienThoai,MaKhachHang,TrangThaiDonHang,TrangThaiGiaoHang,TrangThaiThanhToan) VALUES ('DH1',N'Đây là ghi chú của đơn hàng 1',360000,N'Đây là địa chỉ giao hàng của đơn số 1','6320600951','USER01', 1,0,1),\r\n",
                "('DH2',N'Đây là ghi chú của đơn hàng 2',705000,N'Đây là địa chỉ giao hàng của đơn số 2','3871288026','USER08', 1,1,0),\r\n",
                "('DH3',N'Đây là ghi chú của đơn hàng 3',700000,N'Đây là địa chỉ giao hàng của đơn số 3','6777238724','USER04', 1,1,0),\r\n",
                "('DH4',N'Đây là ghi chú của đơn hàng 4',985000,N'Đây là địa chỉ giao hàng của đơn số 4','4356049876','USER09', 1,0,1),\r\n",
                "('DH5',N'Đây là ghi chú của đơn hàng 5',255000,N'Đây là địa chỉ giao hàng của đơn số 5','7232894765','USER01', 1,1,1),\r\n",
                "('DH6',N'Đây là ghi chú của đơn hàng 6',855000,N'Đây là địa chỉ giao hàng của đơn số 6','4624022618','USER03', 0,1,1),\r\n",
                "('DH7',N'Đây là ghi chú của đơn hàng 7',805000,N'Đây là địa chỉ giao hàng của đơn số 7','6356245908','USER02', 1,1,1),\r\n",
                "('DH8',N'Đây là ghi chú của đơn hàng 8',740000,N'Đây là địa chỉ giao hàng của đơn số 8','5232787384','USER00', 1,1,1),\r\n",
                "('DH9',N'Đây là ghi chú của đơn hàng 9',365000,N'Đây là địa chỉ giao hàng của đơn số 9','9351497550','USER016', 1,0,1),\r\n",
                "('DH10',N'Đây là ghi chú của đơn hàng 10',715000,N'Đây là địa chỉ giao hàng của đơn số 10','4712983760','USER09', 0,0,0),\r\n",
                "('DH11',N'Đây là ghi chú của đơn hàng 11',630000,N'Đây là địa chỉ giao hàng của đơn số 11','5636984148','USER015', 0,1,0),\r\n",
                "('DH12',N'Đây là ghi chú của đơn hàng 12',455000,N'Đây là địa chỉ giao hàng của đơn số 12','3406952030','USER020', 1,1,1),\r\n",
                "('DH13',N'Đây là ghi chú của đơn hàng 13',325000,N'Đây là địa chỉ giao hàng của đơn số 13','6712924345','USER05', 1,1,1),\r\n",
                "('DH14',N'Đây là ghi chú của đơn hàng 14',325000,N'Đây là địa chỉ giao hàng của đơn số 14','6822116424','USER014', 0,1,0),\r\n",
                "('DH15',N'Đây là ghi chú của đơn hàng 15',845000,N'Đây là địa chỉ giao hàng của đơn số 15','3337099113','USER010', 0,1,1),\r\n",
                "('DH16',N'Đây là ghi chú của đơn hàng 16',825000,N'Đây là địa chỉ giao hàng của đơn số 16','9765385336','USER08', 1,1,0),\r\n",
                "('DH17',N'Đây là ghi chú của đơn hàng 17',850000,N'Đây là địa chỉ giao hàng của đơn số 17','4355137651','USER010', 0,0,1),\r\n",
                "('DH18',N'Đây là ghi chú của đơn hàng 18',470000,N'Đây là địa chỉ giao hàng của đơn số 18','5360248638','USER019', 1,1,0),\r\n",
                "('DH19',N'Đây là ghi chú của đơn hàng 19',990000,N'Đây là địa chỉ giao hàng của đơn số 19','5466350248','USER014', 0,0,0),\r\n",
                "('DH20',N'Đây là ghi chú của đơn hàng 20',665000,N'Đây là địa chỉ giao hàng của đơn số 20','9854072217','USER03', 0,1,0)"
            ],
            "metadata": {
                "azdata_cell_guid": "87612e4e-a9df-46fb-8bd6-4681616b339c",
                "language": "sql"
            },
            "outputs": [
                {
                    "output_type": "display_data",
                    "data": {
                        "text/html": "(20 rows affected)"
                    },
                    "metadata": {}
                },
                {
                    "output_type": "display_data",
                    "data": {
                        "text/html": "Total execution time: 00:00:00.024"
                    },
                    "metadata": {}
                }
            ],
            "execution_count": 12
        },
        {
            "cell_type": "code",
            "source": [
                "-- Insert rows into table 'LoaiSanPham' in schema '[dbo]'\r\n",
                "INSERT INTO [dbo].[LoaiSanPham]\r\n",
                "( -- Columns to insert data into\r\n",
                "    [MaLoaiSP], [TenLoaiSanPham]\r\n",
                ")\r\n",
                "VALUES\r\n",
                "( -- First row: values for the columns in the list above\r\n",
                "    'lsp00',N'Chưa xác định'\r\n",
                ")\r\n",
                "-- Add more rows here\r\n",
                "GO"
            ],
            "metadata": {
                "azdata_cell_guid": "99f3344c-1cdc-4921-9e5e-3928b876d0f6",
                "language": "sql"
            },
            "outputs": [
                {
                    "output_type": "error",
                    "ename": "",
                    "evalue": "Msg 2627, Level 14, State 1, Line 2\r\nViolation of PRIMARY KEY constraint 'PK__LoaiSanP__1224CA7CDFEAA477'. Cannot insert duplicate key in object 'dbo.LoaiSanPham'. The duplicate key value is (lsp00).",
                    "traceback": []
                },
                {
                    "output_type": "display_data",
                    "data": {
                        "text/html": "The statement has been terminated."
                    },
                    "metadata": {}
                },
                {
                    "output_type": "display_data",
                    "data": {
                        "text/html": "Total execution time: 00:00:00.002"
                    },
                    "metadata": {}
                }
            ],
            "execution_count": 22
        },
        {
            "cell_type": "code",
            "source": [
                ""
            ],
            "metadata": {
                "language": "sql",
                "azdata_cell_guid": "915cae32-7d9c-43f9-b8a8-19947133dd49"
            },
            "outputs": [
                {
                    "output_type": "display_data",
                    "data": {
                        "text/html": "Commands completed successfully."
                    },
                    "metadata": {}
                },
                {
                    "output_type": "display_data",
                    "data": {
                        "text/html": "Total execution time: 00:00:00"
                    },
                    "metadata": {}
                }
            ],
            "execution_count": 6
        },
        {
            "cell_type": "code",
            "source": [
                "INSERT INTO [dbo].[SanPham] (MaSP, TenSP,Gia,ChiTiet,Hinh,MaLoaiSP) VALUES ('SP0001','SanPham1',85000,'ChiTietSanPham1','product01.png','lsp03'),\r\n",
                "('SP0002','SanPham2',95000,'ChiTietSanPham2','product02.png','lsp04'),\r\n",
                "('SP0003','SanPham3',70000,'ChiTietSanPham3','product03.png','lsp04'),\r\n",
                "('SP0004','SanPham4',30000,'ChiTietSanPham4','product04.png','lsp04'),\r\n",
                "('SP0005','SanPham5',40000,'ChiTietSanPham5','product05.png','lsp06'),\r\n",
                "('SP0006','SanPham6',30000,'ChiTietSanPham6','product06.png','lsp04'),\r\n",
                "('SP0007','SanPham7',40000,'ChiTietSanPham7','product07.png','lsp06'),\r\n",
                "('SP0008','SanPham8',75000,'ChiTietSanPham8','product08.png','lsp02'),\r\n",
                "('SP0009','SanPham9',85000,'ChiTietSanPham9','product09.png','lsp06'),\r\n",
                "('SP00010','SanPham10',15000,'ChiTietSanPham10','product010.png','lsp03'),\r\n",
                "('SP00011','SanPham11',90000,'ChiTietSanPham11','product011.png','lsp01'),\r\n",
                "('SP00012','SanPham12',20000,'ChiTietSanPham12','product012.png','lsp02'),\r\n",
                "('SP00013','SanPham13',5000,'ChiTietSanPham13','product013.png','lsp04'),\r\n",
                "('SP00014','SanPham14',100000,'ChiTietSanPham14','product014.png','lsp05'),\r\n",
                "('SP00015','SanPham15',20000,'ChiTietSanPham15','product015.png','lsp01'),\r\n",
                "('SP00016','SanPham16',25000,'ChiTietSanPham16','product016.png','lsp01'),\r\n",
                "('SP00017','SanPham17',75000,'ChiTietSanPham17','product017.png','lsp04'),\r\n",
                "('SP00018','SanPham18',20000,'ChiTietSanPham18','product018.png','lsp05'),\r\n",
                "('SP00019','SanPham19',20000,'ChiTietSanPham19','product019.png','lsp01'),\r\n",
                "('SP00020','SanPham20',100000,'ChiTietSanPham20','product020.png','lsp01'),\r\n",
                "('SP00021','SanPham21',60000,'ChiTietSanPham21','product021.png','lsp06'),\r\n",
                "('SP00022','SanPham22',55000,'ChiTietSanPham22','product022.png','lsp06'),\r\n",
                "('SP00023','SanPham23',95000,'ChiTietSanPham23','product023.png','lsp04'),\r\n",
                "('SP00024','SanPham24',10000,'ChiTietSanPham24','product024.png','lsp06'),\r\n",
                "('SP00025','SanPham25',100000,'ChiTietSanPham25','product025.png','lsp06'),\r\n",
                "('SP00026','SanPham26',30000,'ChiTietSanPham26','product026.png','lsp01'),\r\n",
                "('SP00027','SanPham27',75000,'ChiTietSanPham27','product027.png','lsp03'),\r\n",
                "('SP00028','SanPham28',100000,'ChiTietSanPham28','product028.png','lsp05'),\r\n",
                "('SP00029','SanPham29',60000,'ChiTietSanPham29','product029.png','lsp02'),\r\n",
                "('SP00030','SanPham30',70000,'ChiTietSanPham30','product030.png','lsp05'),\r\n",
                "('SP00031','SanPham31',50000,'ChiTietSanPham31','product031.png','lsp01'),\r\n",
                "('SP00032','SanPham32',95000,'ChiTietSanPham32','product032.png','lsp04'),\r\n",
                "('SP00033','SanPham33',20000,'ChiTietSanPham33','product033.png','lsp01'),\r\n",
                "('SP00034','SanPham34',5000,'ChiTietSanPham34','product034.png','lsp02'),\r\n",
                "('SP00035','SanPham35',75000,'ChiTietSanPham35','product035.png','lsp06'),\r\n",
                "('SP00036','SanPham36',40000,'ChiTietSanPham36','product036.png','lsp06'),\r\n",
                "('SP00037','SanPham37',75000,'ChiTietSanPham37','product037.png','lsp01'),\r\n",
                "('SP00038','SanPham38',75000,'ChiTietSanPham38','product038.png','lsp03'),\r\n",
                "('SP00039','SanPham39',40000,'ChiTietSanPham39','product039.png','lsp01'),\r\n",
                "('SP00040','SanPham40',30000,'ChiTietSanPham40','product040.png','lsp01'),\r\n",
                "('SP00041','SanPham41',40000,'ChiTietSanPham41','product041.png','lsp02'),\r\n",
                "('SP00042','SanPham42',10000,'ChiTietSanPham42','product042.png','lsp06'),\r\n",
                "('SP00043','SanPham43',35000,'ChiTietSanPham43','product043.png','lsp01'),\r\n",
                "('SP00044','SanPham44',50000,'ChiTietSanPham44','product044.png','lsp04'),\r\n",
                "('SP00045','SanPham45',70000,'ChiTietSanPham45','product045.png','lsp03'),\r\n",
                "('SP00046','SanPham46',65000,'ChiTietSanPham46','product046.png','lsp05'),\r\n",
                "('SP00047','SanPham47',30000,'ChiTietSanPham47','product047.png','lsp04'),\r\n",
                "('SP00048','SanPham48',55000,'ChiTietSanPham48','product048.png','lsp04'),\r\n",
                "('SP00049','SanPham49',20000,'ChiTietSanPham49','product049.png','lsp02'),\r\n",
                "('SP00050','SanPham50',25000,'ChiTietSanPham50','product050.png','lsp05')"
            ],
            "metadata": {
                "language": "sql",
                "azdata_cell_guid": "f84a7f3b-b9d2-4d3f-9917-e9158607d01b"
            },
            "outputs": [
                {
                    "output_type": "display_data",
                    "data": {
                        "text/html": "(50 rows affected)"
                    },
                    "metadata": {}
                },
                {
                    "output_type": "display_data",
                    "data": {
                        "text/html": "Total execution time: 00:00:00.020"
                    },
                    "metadata": {}
                }
            ],
            "execution_count": 5
        },
        {
            "cell_type": "code",
            "source": [
                "    SELECT * FROM NguoiDung"
            ],
            "metadata": {
                "azdata_cell_guid": "b003c786-6fb6-4e7a-9066-4025b7feffaf",
                "language": "sql"
            },
            "outputs": [
                {
                    "output_type": "display_data",
                    "data": {
                        "text/html": "(22 rows affected)"
                    },
                    "metadata": {}
                },
                {
                    "output_type": "display_data",
                    "data": {
                        "text/html": "Total execution time: 00:00:00.012"
                    },
                    "metadata": {}
                },
                {
                    "output_type": "execute_result",
                    "execution_count": 24,
                    "data": {
                        "application/vnd.dataresource+json": {
                            "schema": {
                                "fields": [
                                    {
                                        "name": "MaNguoiDung"
                                    },
                                    {
                                        "name": "TenDangNhap"
                                    },
                                    {
                                        "name": "MatKhau"
                                    },
                                    {
                                        "name": "HoTen"
                                    },
                                    {
                                        "name": "NgaySinh"
                                    },
                                    {
                                        "name": "DiaChi"
                                    },
                                    {
                                        "name": "RoleID"
                                    }
                                ]
                            },
                            "data": [
                                {
                                    "0": "000",
                                    "1": "nimda",
                                    "2": "ngocphat",
                                    "3": "NULL",
                                    "4": "NULL",
                                    "5": "NULL",
                                    "6": "000"
                                },
                                {
                                    "0": "test_user",
                                    "1": "ngocphat",
                                    "2": "ngocphat",
                                    "3": "NULL",
                                    "4": "NULL",
                                    "5": "NULL",
                                    "6": "001"
                                },
                                {
                                    "0": "USER01",
                                    "1": "quynhhuong1",
                                    "2": "123",
                                    "3": "Nguyễn Văn u",
                                    "4": "2002-07-12",
                                    "5": "Thủ Đức",
                                    "6": "001"
                                },
                                {
                                    "0": "USER010",
                                    "1": "ngocphat10",
                                    "2": "123",
                                    "3": "Nguyễn Văn n",
                                    "4": "2002-07-12",
                                    "5": "Bình Chánh",
                                    "6": "001"
                                },
                                {
                                    "0": "USER011",
                                    "1": "quynhhuong11",
                                    "2": "123",
                                    "3": "Nguyễn Thị t",
                                    "4": "2002-07-12",
                                    "5": "Thủ Đức",
                                    "6": "001"
                                },
                                {
                                    "0": "USER012",
                                    "1": "aido12",
                                    "2": "123",
                                    "3": "Nguyễn Ngọc w",
                                    "4": "2002-07-12",
                                    "5": "Quận 2",
                                    "6": "001"
                                },
                                {
                                    "0": "USER013",
                                    "1": "ngocphat13",
                                    "2": "123",
                                    "3": "Nguyễn Ngọc m",
                                    "4": "2002-07-12",
                                    "5": "Bình Chánh",
                                    "6": "001"
                                },
                                {
                                    "0": "USER014",
                                    "1": "ngocphat14",
                                    "2": "123",
                                    "3": "Nguyễn Thị o",
                                    "4": "2002-07-12",
                                    "5": "Quận 9",
                                    "6": "001"
                                },
                                {
                                    "0": "USER015",
                                    "1": "bichlien15",
                                    "2": "123",
                                    "3": "Nguyễn Văn p",
                                    "4": "2002-07-12",
                                    "5": "Thủ Đức",
                                    "6": "001"
                                },
                                {
                                    "0": "USER016",
                                    "1": "quynhhuong16",
                                    "2": "123",
                                    "3": "Nguyễn Thị r",
                                    "4": "2002-07-12",
                                    "5": "Bình Chánh",
                                    "6": "001"
                                },
                                {
                                    "0": "USER017",
                                    "1": "bichlien17",
                                    "2": "123",
                                    "3": "Nguyễn Văn o",
                                    "4": "2002-07-12",
                                    "5": "Bình Chánh",
                                    "6": "001"
                                },
                                {
                                    "0": "USER018",
                                    "1": "quynhhuong18",
                                    "2": "123",
                                    "3": "Nguyễn Thị h",
                                    "4": "2002-07-12",
                                    "5": "Quận 2",
                                    "6": "001"
                                },
                                {
                                    "0": "USER019",
                                    "1": "bichlien19",
                                    "2": "123",
                                    "3": "Nguyễn Ngọc j",
                                    "4": "2002-07-12",
                                    "5": "Bình Chánh",
                                    "6": "001"
                                },
                                {
                                    "0": "USER02",
                                    "1": "bichlien2",
                                    "2": "123",
                                    "3": "Nguyễn Văn s",
                                    "4": "2002-07-12",
                                    "5": "Thủ Đức",
                                    "6": "001"
                                },
                                {
                                    "0": "USER020",
                                    "1": "aido20",
                                    "2": "123",
                                    "3": "Nguyễn Thị o",
                                    "4": "2002-07-12",
                                    "5": "Thủ Đức",
                                    "6": "001"
                                },
                                {
                                    "0": "USER03",
                                    "1": "ngocphat3",
                                    "2": "123",
                                    "3": "Nguyễn Thị p",
                                    "4": "2002-07-12",
                                    "5": "Quận 2",
                                    "6": "001"
                                },
                                {
                                    "0": "USER04",
                                    "1": "aido4",
                                    "2": "123",
                                    "3": "Nguyễn Ngọc h",
                                    "4": "2002-07-12",
                                    "5": "Bình Chánh",
                                    "6": "001"
                                },
                                {
                                    "0": "USER05",
                                    "1": "quynhhuong5",
                                    "2": "123",
                                    "3": "Nguyễn Thị n",
                                    "4": "2002-07-12",
                                    "5": "Quận 2",
                                    "6": "001"
                                },
                                {
                                    "0": "USER06",
                                    "1": "quynhhuong6",
                                    "2": "123",
                                    "3": "Nguyễn Văn f",
                                    "4": "2002-07-12",
                                    "5": "Quận 2",
                                    "6": "001"
                                },
                                {
                                    "0": "USER07",
                                    "1": "aido7",
                                    "2": "123",
                                    "3": "Nguyễn Thị s",
                                    "4": "2002-07-12",
                                    "5": "Thủ Đức",
                                    "6": "001"
                                },
                                {
                                    "0": "USER08",
                                    "1": "ngocphat8",
                                    "2": "123",
                                    "3": "Nguyễn Thị c",
                                    "4": "2002-07-12",
                                    "5": "Thủ Đức",
                                    "6": "001"
                                },
                                {
                                    "0": "USER09",
                                    "1": "quynhhuong9",
                                    "2": "123",
                                    "3": "Nguyễn Thị r",
                                    "4": "2002-07-12",
                                    "5": "Quận 2",
                                    "6": "001"
                                }
                            ]
                        },
                        "text/html": "<table><tr><th>MaNguoiDung</th><th>TenDangNhap</th><th>MatKhau</th><th>HoTen</th><th>NgaySinh</th><th>DiaChi</th><th>RoleID</th></tr><tr><td>000</td><td>nimda</td><td>ngocphat</td><td>NULL</td><td>NULL</td><td>NULL</td><td>000</td></tr><tr><td>test_user</td><td>ngocphat</td><td>ngocphat</td><td>NULL</td><td>NULL</td><td>NULL</td><td>001</td></tr><tr><td>USER01</td><td>quynhhuong1</td><td>123</td><td>Nguyễn Văn u</td><td>2002-07-12</td><td>Thủ Đức</td><td>001</td></tr><tr><td>USER010</td><td>ngocphat10</td><td>123</td><td>Nguyễn Văn n</td><td>2002-07-12</td><td>Bình Chánh</td><td>001</td></tr><tr><td>USER011</td><td>quynhhuong11</td><td>123</td><td>Nguyễn Thị t</td><td>2002-07-12</td><td>Thủ Đức</td><td>001</td></tr><tr><td>USER012</td><td>aido12</td><td>123</td><td>Nguyễn Ngọc w</td><td>2002-07-12</td><td>Quận 2</td><td>001</td></tr><tr><td>USER013</td><td>ngocphat13</td><td>123</td><td>Nguyễn Ngọc m</td><td>2002-07-12</td><td>Bình Chánh</td><td>001</td></tr><tr><td>USER014</td><td>ngocphat14</td><td>123</td><td>Nguyễn Thị o</td><td>2002-07-12</td><td>Quận 9</td><td>001</td></tr><tr><td>USER015</td><td>bichlien15</td><td>123</td><td>Nguyễn Văn p</td><td>2002-07-12</td><td>Thủ Đức</td><td>001</td></tr><tr><td>USER016</td><td>quynhhuong16</td><td>123</td><td>Nguyễn Thị r</td><td>2002-07-12</td><td>Bình Chánh</td><td>001</td></tr><tr><td>USER017</td><td>bichlien17</td><td>123</td><td>Nguyễn Văn o</td><td>2002-07-12</td><td>Bình Chánh</td><td>001</td></tr><tr><td>USER018</td><td>quynhhuong18</td><td>123</td><td>Nguyễn Thị h</td><td>2002-07-12</td><td>Quận 2</td><td>001</td></tr><tr><td>USER019</td><td>bichlien19</td><td>123</td><td>Nguyễn Ngọc j</td><td>2002-07-12</td><td>Bình Chánh</td><td>001</td></tr><tr><td>USER02</td><td>bichlien2</td><td>123</td><td>Nguyễn Văn s</td><td>2002-07-12</td><td>Thủ Đức</td><td>001</td></tr><tr><td>USER020</td><td>aido20</td><td>123</td><td>Nguyễn Thị o</td><td>2002-07-12</td><td>Thủ Đức</td><td>001</td></tr><tr><td>USER03</td><td>ngocphat3</td><td>123</td><td>Nguyễn Thị p</td><td>2002-07-12</td><td>Quận 2</td><td>001</td></tr><tr><td>USER04</td><td>aido4</td><td>123</td><td>Nguyễn Ngọc h</td><td>2002-07-12</td><td>Bình Chánh</td><td>001</td></tr><tr><td>USER05</td><td>quynhhuong5</td><td>123</td><td>Nguyễn Thị n</td><td>2002-07-12</td><td>Quận 2</td><td>001</td></tr><tr><td>USER06</td><td>quynhhuong6</td><td>123</td><td>Nguyễn Văn f</td><td>2002-07-12</td><td>Quận 2</td><td>001</td></tr><tr><td>USER07</td><td>aido7</td><td>123</td><td>Nguyễn Thị s</td><td>2002-07-12</td><td>Thủ Đức</td><td>001</td></tr><tr><td>USER08</td><td>ngocphat8</td><td>123</td><td>Nguyễn Thị c</td><td>2002-07-12</td><td>Thủ Đức</td><td>001</td></tr><tr><td>USER09</td><td>quynhhuong9</td><td>123</td><td>Nguyễn Thị r</td><td>2002-07-12</td><td>Quận 2</td><td>001</td></tr></table>"
                    },
                    "metadata": {}
                }
            ],
            "execution_count": 24
        },
        {
            "cell_type": "code",
            "source": [
                "SELECT MaNguoiDung, TenDangNhap, HoTen, MatKhau, NgaySinh, DiaChi, RoleID FROM NguoiDung"
            ],
            "metadata": {
                "language": "sql",
                "azdata_cell_guid": "5076c543-bcef-4aeb-a03f-99beb349f0f8"
            },
            "outputs": [
                {
                    "output_type": "display_data",
                    "data": {
                        "text/html": "(0 rows affected)"
                    },
                    "metadata": {}
                },
                {
                    "output_type": "display_data",
                    "data": {
                        "text/html": "Total execution time: 00:00:00.128"
                    },
                    "metadata": {}
                },
                {
                    "output_type": "execute_result",
                    "execution_count": 1,
                    "data": {
                        "application/vnd.dataresource+json": {
                            "schema": {
                                "fields": [
                                    {
                                        "name": "MaNguoiDung"
                                    },
                                    {
                                        "name": "TenDangNhap"
                                    },
                                    {
                                        "name": "HoTen"
                                    },
                                    {
                                        "name": "MatKhau"
                                    },
                                    {
                                        "name": "NgaySinh"
                                    },
                                    {
                                        "name": "DiaChi"
                                    },
                                    {
                                        "name": "RoleID"
                                    }
                                ]
                            },
                            "data": []
                        },
                        "text/html": "<table><tr><th>MaNguoiDung</th><th>TenDangNhap</th><th>HoTen</th><th>MatKhau</th><th>NgaySinh</th><th>DiaChi</th><th>RoleID</th></tr></table>"
                    },
                    "metadata": {}
                }
            ],
            "execution_count": 1
        },
        {
            "cell_type": "code",
            "source": [
                "select * from SanPham   "
            ],
            "metadata": {
                "language": "sql",
                "azdata_cell_guid": "bbbe4595-8ad2-4bd3-b383-b80645e0f3ab"
            },
            "outputs": [
                {
                    "output_type": "display_data",
                    "data": {
                        "text/html": "(51 rows affected)"
                    },
                    "metadata": {}
                },
                {
                    "output_type": "display_data",
                    "data": {
                        "text/html": "Total execution time: 00:00:00.015"
                    },
                    "metadata": {}
                },
                {
                    "output_type": "execute_result",
                    "execution_count": 7,
                    "data": {
                        "application/vnd.dataresource+json": {
                            "schema": {
                                "fields": [
                                    {
                                        "name": "MaSP"
                                    },
                                    {
                                        "name": "TenSP"
                                    },
                                    {
                                        "name": "Gia"
                                    },
                                    {
                                        "name": "ChiTiet"
                                    },
                                    {
                                        "name": "Hinh"
                                    },
                                    {
                                        "name": "MaLoaiSP"
                                    }
                                ]
                            },
                            "data": [
                                {
                                    "0": "SP0001",
                                    "1": "SanPham1",
                                    "2": "85000",
                                    "3": "ChiTietSanPham1",
                                    "4": "product01.png",
                                    "5": "lsp03"
                                },
                                {
                                    "0": "SP00010",
                                    "1": "SanPham10",
                                    "2": "15000",
                                    "3": "ChiTietSanPham10",
                                    "4": "product010.png",
                                    "5": "lsp03"
                                },
                                {
                                    "0": "SP00011",
                                    "1": "SanPham11",
                                    "2": "90000",
                                    "3": "ChiTietSanPham11",
                                    "4": "product011.png",
                                    "5": "lsp01"
                                },
                                {
                                    "0": "SP00012",
                                    "1": "SanPham12",
                                    "2": "20000",
                                    "3": "ChiTietSanPham12",
                                    "4": "product012.png",
                                    "5": "lsp02"
                                },
                                {
                                    "0": "SP00013",
                                    "1": "SanPham13",
                                    "2": "5000",
                                    "3": "ChiTietSanPham13",
                                    "4": "product013.png",
                                    "5": "lsp04"
                                },
                                {
                                    "0": "SP00014",
                                    "1": "SanPham14",
                                    "2": "100000",
                                    "3": "ChiTietSanPham14",
                                    "4": "product014.png",
                                    "5": "lsp05"
                                },
                                {
                                    "0": "SP00015",
                                    "1": "SanPham15",
                                    "2": "20000",
                                    "3": "ChiTietSanPham15",
                                    "4": "product015.png",
                                    "5": "lsp01"
                                },
                                {
                                    "0": "SP00016",
                                    "1": "SanPham16",
                                    "2": "25000",
                                    "3": "ChiTietSanPham16",
                                    "4": "product016.png",
                                    "5": "lsp01"
                                },
                                {
                                    "0": "SP00017",
                                    "1": "SanPham17",
                                    "2": "75000",
                                    "3": "ChiTietSanPham17",
                                    "4": "product017.png",
                                    "5": "lsp04"
                                },
                                {
                                    "0": "SP00018",
                                    "1": "SanPham18",
                                    "2": "20000",
                                    "3": "ChiTietSanPham18",
                                    "4": "product018.png",
                                    "5": "lsp05"
                                },
                                {
                                    "0": "SP00019",
                                    "1": "SanPham19",
                                    "2": "20000",
                                    "3": "ChiTietSanPham19",
                                    "4": "product019.png",
                                    "5": "lsp01"
                                },
                                {
                                    "0": "SP0002",
                                    "1": "SanPham2",
                                    "2": "95000",
                                    "3": "ChiTietSanPham2",
                                    "4": "product02.png",
                                    "5": "lsp04"
                                },
                                {
                                    "0": "SP00020",
                                    "1": "SanPham20",
                                    "2": "100000",
                                    "3": "ChiTietSanPham20",
                                    "4": "product020.png",
                                    "5": "lsp01"
                                },
                                {
                                    "0": "SP00021",
                                    "1": "SanPham21",
                                    "2": "60000",
                                    "3": "ChiTietSanPham21",
                                    "4": "product021.png",
                                    "5": "lsp06"
                                },
                                {
                                    "0": "SP00022",
                                    "1": "SanPham22",
                                    "2": "55000",
                                    "3": "ChiTietSanPham22",
                                    "4": "product022.png",
                                    "5": "lsp06"
                                },
                                {
                                    "0": "SP00023",
                                    "1": "SanPham23",
                                    "2": "95000",
                                    "3": "ChiTietSanPham23",
                                    "4": "product023.png",
                                    "5": "lsp04"
                                },
                                {
                                    "0": "SP00024",
                                    "1": "SanPham24",
                                    "2": "10000",
                                    "3": "ChiTietSanPham24",
                                    "4": "product024.png",
                                    "5": "lsp06"
                                },
                                {
                                    "0": "SP00025",
                                    "1": "SanPham25",
                                    "2": "100000",
                                    "3": "ChiTietSanPham25",
                                    "4": "product025.png",
                                    "5": "lsp06"
                                },
                                {
                                    "0": "SP00026",
                                    "1": "SanPham26",
                                    "2": "30000",
                                    "3": "ChiTietSanPham26",
                                    "4": "product026.png",
                                    "5": "lsp01"
                                },
                                {
                                    "0": "SP00027",
                                    "1": "SanPham27",
                                    "2": "75000",
                                    "3": "ChiTietSanPham27",
                                    "4": "product027.png",
                                    "5": "lsp03"
                                },
                                {
                                    "0": "SP00028",
                                    "1": "SanPham28",
                                    "2": "100000",
                                    "3": "ChiTietSanPham28",
                                    "4": "product028.png",
                                    "5": "lsp05"
                                },
                                {
                                    "0": "SP00029",
                                    "1": "SanPham29",
                                    "2": "60000",
                                    "3": "ChiTietSanPham29",
                                    "4": "product029.png",
                                    "5": "lsp02"
                                },
                                {
                                    "0": "SP0003",
                                    "1": "SanPham3",
                                    "2": "70000",
                                    "3": "ChiTietSanPham3",
                                    "4": "product03.png",
                                    "5": "lsp04"
                                },
                                {
                                    "0": "SP00030",
                                    "1": "SanPham30",
                                    "2": "70000",
                                    "3": "ChiTietSanPham30",
                                    "4": "product030.png",
                                    "5": "lsp05"
                                },
                                {
                                    "0": "SP00031",
                                    "1": "SanPham31",
                                    "2": "50000",
                                    "3": "ChiTietSanPham31",
                                    "4": "product031.png",
                                    "5": "lsp01"
                                },
                                {
                                    "0": "SP00032",
                                    "1": "SanPham32",
                                    "2": "95000",
                                    "3": "ChiTietSanPham32",
                                    "4": "product032.png",
                                    "5": "lsp04"
                                },
                                {
                                    "0": "SP00033",
                                    "1": "SanPham33",
                                    "2": "20000",
                                    "3": "ChiTietSanPham33",
                                    "4": "product033.png",
                                    "5": "lsp01"
                                },
                                {
                                    "0": "SP00034",
                                    "1": "SanPham34",
                                    "2": "5000",
                                    "3": "ChiTietSanPham34",
                                    "4": "product034.png",
                                    "5": "lsp02"
                                },
                                {
                                    "0": "SP00035",
                                    "1": "SanPham35",
                                    "2": "75000",
                                    "3": "ChiTietSanPham35",
                                    "4": "product035.png",
                                    "5": "lsp06"
                                },
                                {
                                    "0": "SP00036",
                                    "1": "SanPham36",
                                    "2": "40000",
                                    "3": "ChiTietSanPham36",
                                    "4": "product036.png",
                                    "5": "lsp06"
                                },
                                {
                                    "0": "SP00037",
                                    "1": "SanPham37",
                                    "2": "75000",
                                    "3": "ChiTietSanPham37",
                                    "4": "product037.png",
                                    "5": "lsp01"
                                },
                                {
                                    "0": "SP00038",
                                    "1": "SanPham38",
                                    "2": "75000",
                                    "3": "ChiTietSanPham38",
                                    "4": "product038.png",
                                    "5": "lsp03"
                                },
                                {
                                    "0": "SP00039",
                                    "1": "SanPham39",
                                    "2": "40000",
                                    "3": "ChiTietSanPham39",
                                    "4": "product039.png",
                                    "5": "lsp01"
                                },
                                {
                                    "0": "SP0004",
                                    "1": "SanPham4",
                                    "2": "30000",
                                    "3": "ChiTietSanPham4",
                                    "4": "product04.png",
                                    "5": "lsp04"
                                },
                                {
                                    "0": "SP00040",
                                    "1": "SanPham40",
                                    "2": "30000",
                                    "3": "ChiTietSanPham40",
                                    "4": "product040.png",
                                    "5": "lsp01"
                                },
                                {
                                    "0": "SP00041",
                                    "1": "SanPham41",
                                    "2": "40000",
                                    "3": "ChiTietSanPham41",
                                    "4": "product041.png",
                                    "5": "lsp02"
                                },
                                {
                                    "0": "SP00042",
                                    "1": "SanPham42",
                                    "2": "10000",
                                    "3": "ChiTietSanPham42",
                                    "4": "product042.png",
                                    "5": "lsp06"
                                },
                                {
                                    "0": "SP00043",
                                    "1": "SanPham43",
                                    "2": "35000",
                                    "3": "ChiTietSanPham43",
                                    "4": "product043.png",
                                    "5": "lsp01"
                                },
                                {
                                    "0": "SP00044",
                                    "1": "SanPham44",
                                    "2": "50000",
                                    "3": "ChiTietSanPham44",
                                    "4": "product044.png",
                                    "5": "lsp04"
                                },
                                {
                                    "0": "SP00045",
                                    "1": "SanPham45",
                                    "2": "70000",
                                    "3": "ChiTietSanPham45",
                                    "4": "product045.png",
                                    "5": "lsp03"
                                },
                                {
                                    "0": "SP00046",
                                    "1": "SanPham46",
                                    "2": "65000",
                                    "3": "ChiTietSanPham46",
                                    "4": "product046.png",
                                    "5": "lsp05"
                                },
                                {
                                    "0": "SP00047",
                                    "1": "SanPham47",
                                    "2": "30000",
                                    "3": "ChiTietSanPham47",
                                    "4": "product047.png",
                                    "5": "lsp04"
                                },
                                {
                                    "0": "SP00048",
                                    "1": "SanPham48",
                                    "2": "55000",
                                    "3": "ChiTietSanPham48",
                                    "4": "product048.png",
                                    "5": "lsp04"
                                },
                                {
                                    "0": "SP00049",
                                    "1": "SanPham49",
                                    "2": "20000",
                                    "3": "ChiTietSanPham49",
                                    "4": "product049.png",
                                    "5": "lsp02"
                                },
                                {
                                    "0": "SP0005",
                                    "1": "SanPham5",
                                    "2": "40000",
                                    "3": "ChiTietSanPham5",
                                    "4": "product05.png",
                                    "5": "lsp06"
                                },
                                {
                                    "0": "SP00050",
                                    "1": "SanPham50",
                                    "2": "25000",
                                    "3": "ChiTietSanPham50",
                                    "4": "product050.png",
                                    "5": "lsp05"
                                },
                                {
                                    "0": "SP0006",
                                    "1": "SanPham6",
                                    "2": "30000",
                                    "3": "ChiTietSanPham6",
                                    "4": "product06.png",
                                    "5": "lsp04"
                                },
                                {
                                    "0": "SP0007",
                                    "1": "SanPham7",
                                    "2": "40000",
                                    "3": "ChiTietSanPham7",
                                    "4": "product07.png",
                                    "5": "lsp06"
                                },
                                {
                                    "0": "SP0008",
                                    "1": "SanPham8",
                                    "2": "75000",
                                    "3": "ChiTietSanPham8",
                                    "4": "product08.png",
                                    "5": "lsp02"
                                },
                                {
                                    "0": "SP0009",
                                    "1": "SanPham9",
                                    "2": "85000",
                                    "3": "ChiTietSanPham9",
                                    "4": "product09.png",
                                    "5": "lsp06"
                                },
                                {
                                    "0": "test_add_sp",
                                    "1": "Test tên sản phẩm",
                                    "2": "8500011",
                                    "3": "ChiTietSanPham9_test01",
                                    "4": "mermaid-diagram-2022-12-06-214605.png",
                                    "5": "NULL"
                                }
                            ]
                        },
                        "text/html": "<table><tr><th>MaSP</th><th>TenSP</th><th>Gia</th><th>ChiTiet</th><th>Hinh</th><th>MaLoaiSP</th></tr><tr><td>SP0001</td><td>SanPham1</td><td>85000</td><td>ChiTietSanPham1</td><td>product01.png</td><td>lsp03</td></tr><tr><td>SP00010</td><td>SanPham10</td><td>15000</td><td>ChiTietSanPham10</td><td>product010.png</td><td>lsp03</td></tr><tr><td>SP00011</td><td>SanPham11</td><td>90000</td><td>ChiTietSanPham11</td><td>product011.png</td><td>lsp01</td></tr><tr><td>SP00012</td><td>SanPham12</td><td>20000</td><td>ChiTietSanPham12</td><td>product012.png</td><td>lsp02</td></tr><tr><td>SP00013</td><td>SanPham13</td><td>5000</td><td>ChiTietSanPham13</td><td>product013.png</td><td>lsp04</td></tr><tr><td>SP00014</td><td>SanPham14</td><td>100000</td><td>ChiTietSanPham14</td><td>product014.png</td><td>lsp05</td></tr><tr><td>SP00015</td><td>SanPham15</td><td>20000</td><td>ChiTietSanPham15</td><td>product015.png</td><td>lsp01</td></tr><tr><td>SP00016</td><td>SanPham16</td><td>25000</td><td>ChiTietSanPham16</td><td>product016.png</td><td>lsp01</td></tr><tr><td>SP00017</td><td>SanPham17</td><td>75000</td><td>ChiTietSanPham17</td><td>product017.png</td><td>lsp04</td></tr><tr><td>SP00018</td><td>SanPham18</td><td>20000</td><td>ChiTietSanPham18</td><td>product018.png</td><td>lsp05</td></tr><tr><td>SP00019</td><td>SanPham19</td><td>20000</td><td>ChiTietSanPham19</td><td>product019.png</td><td>lsp01</td></tr><tr><td>SP0002</td><td>SanPham2</td><td>95000</td><td>ChiTietSanPham2</td><td>product02.png</td><td>lsp04</td></tr><tr><td>SP00020</td><td>SanPham20</td><td>100000</td><td>ChiTietSanPham20</td><td>product020.png</td><td>lsp01</td></tr><tr><td>SP00021</td><td>SanPham21</td><td>60000</td><td>ChiTietSanPham21</td><td>product021.png</td><td>lsp06</td></tr><tr><td>SP00022</td><td>SanPham22</td><td>55000</td><td>ChiTietSanPham22</td><td>product022.png</td><td>lsp06</td></tr><tr><td>SP00023</td><td>SanPham23</td><td>95000</td><td>ChiTietSanPham23</td><td>product023.png</td><td>lsp04</td></tr><tr><td>SP00024</td><td>SanPham24</td><td>10000</td><td>ChiTietSanPham24</td><td>product024.png</td><td>lsp06</td></tr><tr><td>SP00025</td><td>SanPham25</td><td>100000</td><td>ChiTietSanPham25</td><td>product025.png</td><td>lsp06</td></tr><tr><td>SP00026</td><td>SanPham26</td><td>30000</td><td>ChiTietSanPham26</td><td>product026.png</td><td>lsp01</td></tr><tr><td>SP00027</td><td>SanPham27</td><td>75000</td><td>ChiTietSanPham27</td><td>product027.png</td><td>lsp03</td></tr><tr><td>SP00028</td><td>SanPham28</td><td>100000</td><td>ChiTietSanPham28</td><td>product028.png</td><td>lsp05</td></tr><tr><td>SP00029</td><td>SanPham29</td><td>60000</td><td>ChiTietSanPham29</td><td>product029.png</td><td>lsp02</td></tr><tr><td>SP0003</td><td>SanPham3</td><td>70000</td><td>ChiTietSanPham3</td><td>product03.png</td><td>lsp04</td></tr><tr><td>SP00030</td><td>SanPham30</td><td>70000</td><td>ChiTietSanPham30</td><td>product030.png</td><td>lsp05</td></tr><tr><td>SP00031</td><td>SanPham31</td><td>50000</td><td>ChiTietSanPham31</td><td>product031.png</td><td>lsp01</td></tr><tr><td>SP00032</td><td>SanPham32</td><td>95000</td><td>ChiTietSanPham32</td><td>product032.png</td><td>lsp04</td></tr><tr><td>SP00033</td><td>SanPham33</td><td>20000</td><td>ChiTietSanPham33</td><td>product033.png</td><td>lsp01</td></tr><tr><td>SP00034</td><td>SanPham34</td><td>5000</td><td>ChiTietSanPham34</td><td>product034.png</td><td>lsp02</td></tr><tr><td>SP00035</td><td>SanPham35</td><td>75000</td><td>ChiTietSanPham35</td><td>product035.png</td><td>lsp06</td></tr><tr><td>SP00036</td><td>SanPham36</td><td>40000</td><td>ChiTietSanPham36</td><td>product036.png</td><td>lsp06</td></tr><tr><td>SP00037</td><td>SanPham37</td><td>75000</td><td>ChiTietSanPham37</td><td>product037.png</td><td>lsp01</td></tr><tr><td>SP00038</td><td>SanPham38</td><td>75000</td><td>ChiTietSanPham38</td><td>product038.png</td><td>lsp03</td></tr><tr><td>SP00039</td><td>SanPham39</td><td>40000</td><td>ChiTietSanPham39</td><td>product039.png</td><td>lsp01</td></tr><tr><td>SP0004</td><td>SanPham4</td><td>30000</td><td>ChiTietSanPham4</td><td>product04.png</td><td>lsp04</td></tr><tr><td>SP00040</td><td>SanPham40</td><td>30000</td><td>ChiTietSanPham40</td><td>product040.png</td><td>lsp01</td></tr><tr><td>SP00041</td><td>SanPham41</td><td>40000</td><td>ChiTietSanPham41</td><td>product041.png</td><td>lsp02</td></tr><tr><td>SP00042</td><td>SanPham42</td><td>10000</td><td>ChiTietSanPham42</td><td>product042.png</td><td>lsp06</td></tr><tr><td>SP00043</td><td>SanPham43</td><td>35000</td><td>ChiTietSanPham43</td><td>product043.png</td><td>lsp01</td></tr><tr><td>SP00044</td><td>SanPham44</td><td>50000</td><td>ChiTietSanPham44</td><td>product044.png</td><td>lsp04</td></tr><tr><td>SP00045</td><td>SanPham45</td><td>70000</td><td>ChiTietSanPham45</td><td>product045.png</td><td>lsp03</td></tr><tr><td>SP00046</td><td>SanPham46</td><td>65000</td><td>ChiTietSanPham46</td><td>product046.png</td><td>lsp05</td></tr><tr><td>SP00047</td><td>SanPham47</td><td>30000</td><td>ChiTietSanPham47</td><td>product047.png</td><td>lsp04</td></tr><tr><td>SP00048</td><td>SanPham48</td><td>55000</td><td>ChiTietSanPham48</td><td>product048.png</td><td>lsp04</td></tr><tr><td>SP00049</td><td>SanPham49</td><td>20000</td><td>ChiTietSanPham49</td><td>product049.png</td><td>lsp02</td></tr><tr><td>SP0005</td><td>SanPham5</td><td>40000</td><td>ChiTietSanPham5</td><td>product05.png</td><td>lsp06</td></tr><tr><td>SP00050</td><td>SanPham50</td><td>25000</td><td>ChiTietSanPham50</td><td>product050.png</td><td>lsp05</td></tr><tr><td>SP0006</td><td>SanPham6</td><td>30000</td><td>ChiTietSanPham6</td><td>product06.png</td><td>lsp04</td></tr><tr><td>SP0007</td><td>SanPham7</td><td>40000</td><td>ChiTietSanPham7</td><td>product07.png</td><td>lsp06</td></tr><tr><td>SP0008</td><td>SanPham8</td><td>75000</td><td>ChiTietSanPham8</td><td>product08.png</td><td>lsp02</td></tr><tr><td>SP0009</td><td>SanPham9</td><td>85000</td><td>ChiTietSanPham9</td><td>product09.png</td><td>lsp06</td></tr><tr><td>test_add_sp</td><td>Test tên sản phẩm</td><td>8500011</td><td>ChiTietSanPham9_test01</td><td>mermaid-diagram-2022-12-06-214605.png</td><td>NULL</td></tr></table>"
                    },
                    "metadata": {}
                }
            ],
            "execution_count": 7
        },
        {
            "cell_type": "code",
            "source": [
                "select * from LoaiSanPham"
            ],
            "metadata": {
                "language": "sql",
                "azdata_cell_guid": "28a17071-e3c5-4848-8dc3-bd5e3b56382b"
            },
            "outputs": [
                {
                    "output_type": "display_data",
                    "data": {
                        "text/html": "(11 rows affected)"
                    },
                    "metadata": {}
                },
                {
                    "output_type": "display_data",
                    "data": {
                        "text/html": "Total execution time: 00:00:00.013"
                    },
                    "metadata": {}
                },
                {
                    "output_type": "execute_result",
                    "execution_count": 2,
                    "data": {
                        "application/vnd.dataresource+json": {
                            "schema": {
                                "fields": [
                                    {
                                        "name": "MaLoaiSP"
                                    },
                                    {
                                        "name": "TenLoaiSanPham"
                                    }
                                ]
                            },
                            "data": [
                                {
                                    "0": "lsp00",
                                    "1": "Chưa xác định"
                                },
                                {
                                    "0": "lsp01",
                                    "1": "Màu vẽ"
                                },
                                {
                                    "0": "lsp02",
                                    "1": "Giấy vẽ"
                                },
                                {
                                    "0": "lsp03",
                                    "1": "Bút vẽ"
                                },
                                {
                                    "0": "lsp04",
                                    "1": "Phác thảo"
                                },
                                {
                                    "0": "lsp05",
                                    "1": "Văn phòng phẩm"
                                },
                                {
                                    "0": "lsp06",
                                    "1": "Dụng cụ hỗ trợ"
                                },
                                {
                                    "0": "test_lsp00",
                                    "1": "Loại sản phẩm 0"
                                },
                                {
                                    "0": "test_lsp01",
                                    "1": "LoaiSanPham01"
                                },
                                {
                                    "0": "test_lsp02",
                                    "1": "LoaiSanPham02"
                                },
                                {
                                    "0": "test_lsp03",
                                    "1": "LoaiSanPham03"
                                }
                            ]
                        },
                        "text/html": "<table><tr><th>MaLoaiSP</th><th>TenLoaiSanPham</th></tr><tr><td>lsp00</td><td>Chưa xác định</td></tr><tr><td>lsp01</td><td>Màu vẽ</td></tr><tr><td>lsp02</td><td>Giấy vẽ</td></tr><tr><td>lsp03</td><td>Bút vẽ</td></tr><tr><td>lsp04</td><td>Phác thảo</td></tr><tr><td>lsp05</td><td>Văn phòng phẩm</td></tr><tr><td>lsp06</td><td>Dụng cụ hỗ trợ</td></tr><tr><td>test_lsp00</td><td>Loại sản phẩm 0</td></tr><tr><td>test_lsp01</td><td>LoaiSanPham01</td></tr><tr><td>test_lsp02</td><td>LoaiSanPham02</td></tr><tr><td>test_lsp03</td><td>LoaiSanPham03</td></tr></table>"
                    },
                    "metadata": {}
                }
            ],
            "execution_count": 2
        },
        {
            "cell_type": "code",
            "source": [
                "Select sp.MaSP, sp.TenSP, sp.Gia, sp.ChiTiet, sp.Hinh, lsp.TenLoaiSanPham from SanPham sp, LoaiSanPham lsp where sp.MaLoaiSP=lsp.MaLoaiSP"
            ],
            "metadata": {
                "language": "sql",
                "azdata_cell_guid": "b00504ef-554a-4c3b-b870-6bb433068810"
            },
            "outputs": [
                {
                    "output_type": "display_data",
                    "data": {
                        "text/html": "(50 rows affected)"
                    },
                    "metadata": {}
                },
                {
                    "output_type": "display_data",
                    "data": {
                        "text/html": "Total execution time: 00:00:05.881"
                    },
                    "metadata": {}
                },
                {
                    "output_type": "execute_result",
                    "execution_count": 1,
                    "data": {
                        "application/vnd.dataresource+json": {
                            "schema": {
                                "fields": [
                                    {
                                        "name": "MaSP"
                                    },
                                    {
                                        "name": "TenSP"
                                    },
                                    {
                                        "name": "Gia"
                                    },
                                    {
                                        "name": "ChiTiet"
                                    },
                                    {
                                        "name": "Hinh"
                                    },
                                    {
                                        "name": "TenLoaiSanPham"
                                    }
                                ]
                            },
                            "data": [
                                {
                                    "0": "SP0001",
                                    "1": "SanPham1",
                                    "2": "85000",
                                    "3": "ChiTietSanPham1",
                                    "4": "product01.png",
                                    "5": "Bút vẽ"
                                },
                                {
                                    "0": "SP00010",
                                    "1": "SanPham10",
                                    "2": "15000",
                                    "3": "ChiTietSanPham10",
                                    "4": "product010.png",
                                    "5": "Bút vẽ"
                                },
                                {
                                    "0": "SP00011",
                                    "1": "SanPham11",
                                    "2": "90000",
                                    "3": "ChiTietSanPham11",
                                    "4": "product011.png",
                                    "5": "MÃ u váº½"
                                },
                                {
                                    "0": "SP00012",
                                    "1": "SanPham12",
                                    "2": "20000",
                                    "3": "ChiTietSanPham12",
                                    "4": "product012.png",
                                    "5": "Giấy vẽ"
                                },
                                {
                                    "0": "SP00013",
                                    "1": "SanPham13",
                                    "2": "5000",
                                    "3": "ChiTietSanPham13",
                                    "4": "product013.png",
                                    "5": "Phác thảo"
                                },
                                {
                                    "0": "SP00014",
                                    "1": "SanPham14",
                                    "2": "100000",
                                    "3": "ChiTietSanPham14",
                                    "4": "product014.png",
                                    "5": "Văn phòng phẩm"
                                },
                                {
                                    "0": "SP00015",
                                    "1": "SanPham15",
                                    "2": "20000",
                                    "3": "ChiTietSanPham15",
                                    "4": "product015.png",
                                    "5": "MÃ u váº½"
                                },
                                {
                                    "0": "SP00016",
                                    "1": "SanPham16",
                                    "2": "25000",
                                    "3": "ChiTietSanPham16",
                                    "4": "product016.png",
                                    "5": "MÃ u váº½"
                                },
                                {
                                    "0": "SP00017",
                                    "1": "SanPham17",
                                    "2": "75000",
                                    "3": "ChiTietSanPham17",
                                    "4": "product017.png",
                                    "5": "Phác thảo"
                                },
                                {
                                    "0": "SP00018",
                                    "1": "SanPham18",
                                    "2": "20000",
                                    "3": "ChiTietSanPham18",
                                    "4": "product018.png",
                                    "5": "Văn phòng phẩm"
                                },
                                {
                                    "0": "SP00019",
                                    "1": "SanPham19",
                                    "2": "20000",
                                    "3": "ChiTietSanPham19",
                                    "4": "product019.png",
                                    "5": "MÃ u váº½"
                                },
                                {
                                    "0": "SP0002",
                                    "1": "SanPham2",
                                    "2": "95000",
                                    "3": "ChiTietSanPham2",
                                    "4": "product02.png",
                                    "5": "Phác thảo"
                                },
                                {
                                    "0": "SP00020",
                                    "1": "SanPham20",
                                    "2": "100000",
                                    "3": "ChiTietSanPham20",
                                    "4": "product020.png",
                                    "5": "MÃ u váº½"
                                },
                                {
                                    "0": "SP00021",
                                    "1": "SanPham21",
                                    "2": "60000",
                                    "3": "ChiTietSanPham21",
                                    "4": "product021.png",
                                    "5": "Dụng cụ hỗ trợ"
                                },
                                {
                                    "0": "SP00022",
                                    "1": "SanPham22",
                                    "2": "55000",
                                    "3": "ChiTietSanPham22",
                                    "4": "product022.png",
                                    "5": "Dụng cụ hỗ trợ"
                                },
                                {
                                    "0": "SP00023",
                                    "1": "SanPham23",
                                    "2": "95000",
                                    "3": "ChiTietSanPham23",
                                    "4": "product023.png",
                                    "5": "Phác thảo"
                                },
                                {
                                    "0": "SP00024",
                                    "1": "SanPham24",
                                    "2": "10000",
                                    "3": "ChiTietSanPham24",
                                    "4": "product024.png",
                                    "5": "Dụng cụ hỗ trợ"
                                },
                                {
                                    "0": "SP00025",
                                    "1": "SanPham25",
                                    "2": "100000",
                                    "3": "ChiTietSanPham25",
                                    "4": "product025.png",
                                    "5": "Dụng cụ hỗ trợ"
                                },
                                {
                                    "0": "SP00026",
                                    "1": "SanPham26",
                                    "2": "30000",
                                    "3": "ChiTietSanPham26",
                                    "4": "product026.png",
                                    "5": "MÃ u váº½"
                                },
                                {
                                    "0": "SP00027",
                                    "1": "SanPham27",
                                    "2": "75000",
                                    "3": "ChiTietSanPham27",
                                    "4": "product027.png",
                                    "5": "Bút vẽ"
                                },
                                {
                                    "0": "SP00028",
                                    "1": "SanPham28",
                                    "2": "100000",
                                    "3": "ChiTietSanPham28",
                                    "4": "product028.png",
                                    "5": "Văn phòng phẩm"
                                },
                                {
                                    "0": "SP00029",
                                    "1": "SanPham29",
                                    "2": "60000",
                                    "3": "ChiTietSanPham29",
                                    "4": "product029.png",
                                    "5": "Giấy vẽ"
                                },
                                {
                                    "0": "SP0003",
                                    "1": "SanPham3",
                                    "2": "70000",
                                    "3": "ChiTietSanPham3",
                                    "4": "product03.png",
                                    "5": "Phác thảo"
                                },
                                {
                                    "0": "SP00030",
                                    "1": "SanPham30",
                                    "2": "70000",
                                    "3": "ChiTietSanPham30",
                                    "4": "product030.png",
                                    "5": "Văn phòng phẩm"
                                },
                                {
                                    "0": "SP00031",
                                    "1": "SanPham31",
                                    "2": "50000",
                                    "3": "ChiTietSanPham31",
                                    "4": "product031.png",
                                    "5": "MÃ u váº½"
                                },
                                {
                                    "0": "SP00032",
                                    "1": "SanPham32",
                                    "2": "95000",
                                    "3": "ChiTietSanPham32",
                                    "4": "product032.png",
                                    "5": "Phác thảo"
                                },
                                {
                                    "0": "SP00033",
                                    "1": "SanPham33",
                                    "2": "20000",
                                    "3": "ChiTietSanPham33",
                                    "4": "product033.png",
                                    "5": "MÃ u váº½"
                                },
                                {
                                    "0": "SP00034",
                                    "1": "SanPham34",
                                    "2": "5000",
                                    "3": "ChiTietSanPham34",
                                    "4": "product034.png",
                                    "5": "Giấy vẽ"
                                },
                                {
                                    "0": "SP00035",
                                    "1": "SanPham35",
                                    "2": "75000",
                                    "3": "ChiTietSanPham35",
                                    "4": "product035.png",
                                    "5": "Dụng cụ hỗ trợ"
                                },
                                {
                                    "0": "SP00036",
                                    "1": "SanPham36",
                                    "2": "40000",
                                    "3": "ChiTietSanPham36",
                                    "4": "product036.png",
                                    "5": "Dụng cụ hỗ trợ"
                                },
                                {
                                    "0": "SP00037",
                                    "1": "SanPham37",
                                    "2": "75000",
                                    "3": "ChiTietSanPham37",
                                    "4": "product037.png",
                                    "5": "MÃ u váº½"
                                },
                                {
                                    "0": "SP00038",
                                    "1": "SanPham38",
                                    "2": "75000",
                                    "3": "ChiTietSanPham38",
                                    "4": "product038.png",
                                    "5": "Bút vẽ"
                                },
                                {
                                    "0": "SP00039",
                                    "1": "SanPham39",
                                    "2": "40000",
                                    "3": "ChiTietSanPham39",
                                    "4": "product039.png",
                                    "5": "MÃ u váº½"
                                },
                                {
                                    "0": "SP0004",
                                    "1": "SanPham4",
                                    "2": "30000",
                                    "3": "ChiTietSanPham4",
                                    "4": "product04.png",
                                    "5": "Phác thảo"
                                },
                                {
                                    "0": "SP00040",
                                    "1": "SanPham40",
                                    "2": "30000",
                                    "3": "ChiTietSanPham40",
                                    "4": "product040.png",
                                    "5": "MÃ u váº½"
                                },
                                {
                                    "0": "SP00041",
                                    "1": "SanPham41",
                                    "2": "40000",
                                    "3": "ChiTietSanPham41",
                                    "4": "product041.png",
                                    "5": "Giấy vẽ"
                                },
                                {
                                    "0": "SP00042",
                                    "1": "SanPham42",
                                    "2": "10000",
                                    "3": "ChiTietSanPham42",
                                    "4": "product042.png",
                                    "5": "Dụng cụ hỗ trợ"
                                },
                                {
                                    "0": "SP00043",
                                    "1": "SanPham43",
                                    "2": "35000",
                                    "3": "ChiTietSanPham43",
                                    "4": "product043.png",
                                    "5": "MÃ u váº½"
                                },
                                {
                                    "0": "SP00044",
                                    "1": "SanPham44",
                                    "2": "50000",
                                    "3": "ChiTietSanPham44",
                                    "4": "product044.png",
                                    "5": "Phác thảo"
                                },
                                {
                                    "0": "SP00045",
                                    "1": "SanPham45",
                                    "2": "70000",
                                    "3": "ChiTietSanPham45",
                                    "4": "product045.png",
                                    "5": "Bút vẽ"
                                },
                                {
                                    "0": "SP00046",
                                    "1": "SanPham46",
                                    "2": "65000",
                                    "3": "ChiTietSanPham46",
                                    "4": "product046.png",
                                    "5": "Văn phòng phẩm"
                                },
                                {
                                    "0": "SP00047",
                                    "1": "SanPham47",
                                    "2": "30000",
                                    "3": "ChiTietSanPham47",
                                    "4": "product047.png",
                                    "5": "Phác thảo"
                                },
                                {
                                    "0": "SP00048",
                                    "1": "SanPham48",
                                    "2": "55000",
                                    "3": "ChiTietSanPham48",
                                    "4": "product048.png",
                                    "5": "Phác thảo"
                                },
                                {
                                    "0": "SP00049",
                                    "1": "SanPham49",
                                    "2": "20000",
                                    "3": "ChiTietSanPham49",
                                    "4": "product049.png",
                                    "5": "Giấy vẽ"
                                },
                                {
                                    "0": "SP0005",
                                    "1": "SanPham5",
                                    "2": "40000",
                                    "3": "ChiTietSanPham5",
                                    "4": "product05.png",
                                    "5": "Dụng cụ hỗ trợ"
                                },
                                {
                                    "0": "SP00050",
                                    "1": "SanPham50",
                                    "2": "25000",
                                    "3": "ChiTietSanPham50",
                                    "4": "product050.png",
                                    "5": "Văn phòng phẩm"
                                },
                                {
                                    "0": "SP0006",
                                    "1": "SanPham6",
                                    "2": "30000",
                                    "3": "ChiTietSanPham6",
                                    "4": "product06.png",
                                    "5": "Phác thảo"
                                },
                                {
                                    "0": "SP0007",
                                    "1": "SanPham7",
                                    "2": "40000",
                                    "3": "ChiTietSanPham7",
                                    "4": "product07.png",
                                    "5": "Dụng cụ hỗ trợ"
                                },
                                {
                                    "0": "SP0008",
                                    "1": "SanPham8",
                                    "2": "75000",
                                    "3": "ChiTietSanPham8",
                                    "4": "product08.png",
                                    "5": "Giấy vẽ"
                                },
                                {
                                    "0": "SP0009",
                                    "1": "SanPham9",
                                    "2": "85000",
                                    "3": "ChiTietSanPham9",
                                    "4": "product09.png",
                                    "5": "Dụng cụ hỗ trợ"
                                }
                            ]
                        },
                        "text/html": "<table><tr><th>MaSP</th><th>TenSP</th><th>Gia</th><th>ChiTiet</th><th>Hinh</th><th>TenLoaiSanPham</th></tr><tr><td>SP0001</td><td>SanPham1</td><td>85000</td><td>ChiTietSanPham1</td><td>product01.png</td><td>Bút vẽ</td></tr><tr><td>SP00010</td><td>SanPham10</td><td>15000</td><td>ChiTietSanPham10</td><td>product010.png</td><td>Bút vẽ</td></tr><tr><td>SP00011</td><td>SanPham11</td><td>90000</td><td>ChiTietSanPham11</td><td>product011.png</td><td>MÃ u váº½</td></tr><tr><td>SP00012</td><td>SanPham12</td><td>20000</td><td>ChiTietSanPham12</td><td>product012.png</td><td>Giấy vẽ</td></tr><tr><td>SP00013</td><td>SanPham13</td><td>5000</td><td>ChiTietSanPham13</td><td>product013.png</td><td>Phác thảo</td></tr><tr><td>SP00014</td><td>SanPham14</td><td>100000</td><td>ChiTietSanPham14</td><td>product014.png</td><td>Văn phòng phẩm</td></tr><tr><td>SP00015</td><td>SanPham15</td><td>20000</td><td>ChiTietSanPham15</td><td>product015.png</td><td>MÃ u váº½</td></tr><tr><td>SP00016</td><td>SanPham16</td><td>25000</td><td>ChiTietSanPham16</td><td>product016.png</td><td>MÃ u váº½</td></tr><tr><td>SP00017</td><td>SanPham17</td><td>75000</td><td>ChiTietSanPham17</td><td>product017.png</td><td>Phác thảo</td></tr><tr><td>SP00018</td><td>SanPham18</td><td>20000</td><td>ChiTietSanPham18</td><td>product018.png</td><td>Văn phòng phẩm</td></tr><tr><td>SP00019</td><td>SanPham19</td><td>20000</td><td>ChiTietSanPham19</td><td>product019.png</td><td>MÃ u váº½</td></tr><tr><td>SP0002</td><td>SanPham2</td><td>95000</td><td>ChiTietSanPham2</td><td>product02.png</td><td>Phác thảo</td></tr><tr><td>SP00020</td><td>SanPham20</td><td>100000</td><td>ChiTietSanPham20</td><td>product020.png</td><td>MÃ u váº½</td></tr><tr><td>SP00021</td><td>SanPham21</td><td>60000</td><td>ChiTietSanPham21</td><td>product021.png</td><td>Dụng cụ hỗ trợ</td></tr><tr><td>SP00022</td><td>SanPham22</td><td>55000</td><td>ChiTietSanPham22</td><td>product022.png</td><td>Dụng cụ hỗ trợ</td></tr><tr><td>SP00023</td><td>SanPham23</td><td>95000</td><td>ChiTietSanPham23</td><td>product023.png</td><td>Phác thảo</td></tr><tr><td>SP00024</td><td>SanPham24</td><td>10000</td><td>ChiTietSanPham24</td><td>product024.png</td><td>Dụng cụ hỗ trợ</td></tr><tr><td>SP00025</td><td>SanPham25</td><td>100000</td><td>ChiTietSanPham25</td><td>product025.png</td><td>Dụng cụ hỗ trợ</td></tr><tr><td>SP00026</td><td>SanPham26</td><td>30000</td><td>ChiTietSanPham26</td><td>product026.png</td><td>MÃ u váº½</td></tr><tr><td>SP00027</td><td>SanPham27</td><td>75000</td><td>ChiTietSanPham27</td><td>product027.png</td><td>Bút vẽ</td></tr><tr><td>SP00028</td><td>SanPham28</td><td>100000</td><td>ChiTietSanPham28</td><td>product028.png</td><td>Văn phòng phẩm</td></tr><tr><td>SP00029</td><td>SanPham29</td><td>60000</td><td>ChiTietSanPham29</td><td>product029.png</td><td>Giấy vẽ</td></tr><tr><td>SP0003</td><td>SanPham3</td><td>70000</td><td>ChiTietSanPham3</td><td>product03.png</td><td>Phác thảo</td></tr><tr><td>SP00030</td><td>SanPham30</td><td>70000</td><td>ChiTietSanPham30</td><td>product030.png</td><td>Văn phòng phẩm</td></tr><tr><td>SP00031</td><td>SanPham31</td><td>50000</td><td>ChiTietSanPham31</td><td>product031.png</td><td>MÃ u váº½</td></tr><tr><td>SP00032</td><td>SanPham32</td><td>95000</td><td>ChiTietSanPham32</td><td>product032.png</td><td>Phác thảo</td></tr><tr><td>SP00033</td><td>SanPham33</td><td>20000</td><td>ChiTietSanPham33</td><td>product033.png</td><td>MÃ u váº½</td></tr><tr><td>SP00034</td><td>SanPham34</td><td>5000</td><td>ChiTietSanPham34</td><td>product034.png</td><td>Giấy vẽ</td></tr><tr><td>SP00035</td><td>SanPham35</td><td>75000</td><td>ChiTietSanPham35</td><td>product035.png</td><td>Dụng cụ hỗ trợ</td></tr><tr><td>SP00036</td><td>SanPham36</td><td>40000</td><td>ChiTietSanPham36</td><td>product036.png</td><td>Dụng cụ hỗ trợ</td></tr><tr><td>SP00037</td><td>SanPham37</td><td>75000</td><td>ChiTietSanPham37</td><td>product037.png</td><td>MÃ u váº½</td></tr><tr><td>SP00038</td><td>SanPham38</td><td>75000</td><td>ChiTietSanPham38</td><td>product038.png</td><td>Bút vẽ</td></tr><tr><td>SP00039</td><td>SanPham39</td><td>40000</td><td>ChiTietSanPham39</td><td>product039.png</td><td>MÃ u váº½</td></tr><tr><td>SP0004</td><td>SanPham4</td><td>30000</td><td>ChiTietSanPham4</td><td>product04.png</td><td>Phác thảo</td></tr><tr><td>SP00040</td><td>SanPham40</td><td>30000</td><td>ChiTietSanPham40</td><td>product040.png</td><td>MÃ u váº½</td></tr><tr><td>SP00041</td><td>SanPham41</td><td>40000</td><td>ChiTietSanPham41</td><td>product041.png</td><td>Giấy vẽ</td></tr><tr><td>SP00042</td><td>SanPham42</td><td>10000</td><td>ChiTietSanPham42</td><td>product042.png</td><td>Dụng cụ hỗ trợ</td></tr><tr><td>SP00043</td><td>SanPham43</td><td>35000</td><td>ChiTietSanPham43</td><td>product043.png</td><td>MÃ u váº½</td></tr><tr><td>SP00044</td><td>SanPham44</td><td>50000</td><td>ChiTietSanPham44</td><td>product044.png</td><td>Phác thảo</td></tr><tr><td>SP00045</td><td>SanPham45</td><td>70000</td><td>ChiTietSanPham45</td><td>product045.png</td><td>Bút vẽ</td></tr><tr><td>SP00046</td><td>SanPham46</td><td>65000</td><td>ChiTietSanPham46</td><td>product046.png</td><td>Văn phòng phẩm</td></tr><tr><td>SP00047</td><td>SanPham47</td><td>30000</td><td>ChiTietSanPham47</td><td>product047.png</td><td>Phác thảo</td></tr><tr><td>SP00048</td><td>SanPham48</td><td>55000</td><td>ChiTietSanPham48</td><td>product048.png</td><td>Phác thảo</td></tr><tr><td>SP00049</td><td>SanPham49</td><td>20000</td><td>ChiTietSanPham49</td><td>product049.png</td><td>Giấy vẽ</td></tr><tr><td>SP0005</td><td>SanPham5</td><td>40000</td><td>ChiTietSanPham5</td><td>product05.png</td><td>Dụng cụ hỗ trợ</td></tr><tr><td>SP00050</td><td>SanPham50</td><td>25000</td><td>ChiTietSanPham50</td><td>product050.png</td><td>Văn phòng phẩm</td></tr><tr><td>SP0006</td><td>SanPham6</td><td>30000</td><td>ChiTietSanPham6</td><td>product06.png</td><td>Phác thảo</td></tr><tr><td>SP0007</td><td>SanPham7</td><td>40000</td><td>ChiTietSanPham7</td><td>product07.png</td><td>Dụng cụ hỗ trợ</td></tr><tr><td>SP0008</td><td>SanPham8</td><td>75000</td><td>ChiTietSanPham8</td><td>product08.png</td><td>Giấy vẽ</td></tr><tr><td>SP0009</td><td>SanPham9</td><td>85000</td><td>ChiTietSanPham9</td><td>product09.png</td><td>Dụng cụ hỗ trợ</td></tr></table>"
                    },
                    "metadata": {}
                }
            ],
            "execution_count": 1
        },
        {
            "cell_type": "code",
            "source": [
                "SELECT MaLoaiSP, TenLoaiSanPham FROM LoaiSanPham"
            ],
            "metadata": {
                "azdata_cell_guid": "882623b5-155c-47ad-86ab-4833ac113765",
                "language": "sql"
            },
            "outputs": [
                {
                    "output_type": "display_data",
                    "data": {
                        "text/html": "(10 rows affected)"
                    },
                    "metadata": {}
                },
                {
                    "output_type": "display_data",
                    "data": {
                        "text/html": "Total execution time: 00:00:00.014"
                    },
                    "metadata": {}
                },
                {
                    "output_type": "execute_result",
                    "execution_count": 3,
                    "data": {
                        "application/vnd.dataresource+json": {
                            "schema": {
                                "fields": [
                                    {
                                        "name": "MaLoaiSP"
                                    },
                                    {
                                        "name": "TenLoaiSanPham"
                                    }
                                ]
                            },
                            "data": [
                                {
                                    "0": "lsp00",
                                    "1": "ChÆ°a xÃ¡c Äá»nh"
                                },
                                {
                                    "0": "lsp01",
                                    "1": "Màu vẽ"
                                },
                                {
                                    "0": "lsp02",
                                    "1": "Giấy vẽ"
                                },
                                {
                                    "0": "lsp03",
                                    "1": "Bút vẽ"
                                },
                                {
                                    "0": "lsp04",
                                    "1": "Phác thảo"
                                },
                                {
                                    "0": "lsp05",
                                    "1": "Văn phòng phẩm"
                                },
                                {
                                    "0": "lsp06",
                                    "1": "Dụng cụ hỗ trợ"
                                },
                                {
                                    "0": "test_lsp01",
                                    "1": "LoaiSanPham01"
                                },
                                {
                                    "0": "test_lsp02",
                                    "1": "LoaiSanPham02"
                                },
                                {
                                    "0": "test_lsp03",
                                    "1": "LoaiSanPham03"
                                }
                            ]
                        },
                        "text/html": "<table><tr><th>MaLoaiSP</th><th>TenLoaiSanPham</th></tr><tr><td>lsp00</td><td>ChÆ°a xÃ¡c Äá»nh</td></tr><tr><td>lsp01</td><td>Màu vẽ</td></tr><tr><td>lsp02</td><td>Giấy vẽ</td></tr><tr><td>lsp03</td><td>Bút vẽ</td></tr><tr><td>lsp04</td><td>Phác thảo</td></tr><tr><td>lsp05</td><td>Văn phòng phẩm</td></tr><tr><td>lsp06</td><td>Dụng cụ hỗ trợ</td></tr><tr><td>test_lsp01</td><td>LoaiSanPham01</td></tr><tr><td>test_lsp02</td><td>LoaiSanPham02</td></tr><tr><td>test_lsp03</td><td>LoaiSanPham03</td></tr></table>"
                    },
                    "metadata": {}
                }
            ],
            "execution_count": 3
        },
        {
            "cell_type": "code",
            "source": [
                "select * from HoaDon"
            ],
            "metadata": {
                "azdata_cell_guid": "b40bb32a-ee3e-4b34-b521-7fb081a3c032",
                "language": "sql"
            },
            "outputs": [
                {
                    "output_type": "display_data",
                    "data": {
                        "text/html": "(20 rows affected)"
                    },
                    "metadata": {}
                },
                {
                    "output_type": "display_data",
                    "data": {
                        "text/html": "Total execution time: 00:00:00.034"
                    },
                    "metadata": {}
                },
                {
                    "output_type": "execute_result",
                    "execution_count": 3,
                    "data": {
                        "application/vnd.dataresource+json": {
                            "schema": {
                                "fields": [
                                    {
                                        "name": "MaHoaDon"
                                    },
                                    {
                                        "name": "GhiChu"
                                    },
                                    {
                                        "name": "TongThanhToan"
                                    },
                                    {
                                        "name": "DiaChiGiaoHang"
                                    },
                                    {
                                        "name": "SoDienThoai"
                                    },
                                    {
                                        "name": "MaKhachHang"
                                    },
                                    {
                                        "name": "ThoiGianGiaoHang"
                                    },
                                    {
                                        "name": "TrangThaiDonHang"
                                    },
                                    {
                                        "name": "TrangThaiGiaoHang"
                                    },
                                    {
                                        "name": "TrangThaiThanhToan"
                                    }
                                ]
                            },
                            "data": [
                                {
                                    "0": "DH1",
                                    "1": "Đây là ghi chú của đơn hàng 1",
                                    "2": "360000",
                                    "3": "Đây là địa chỉ giao hàng của đơn số 1",
                                    "4": "6320600951",
                                    "5": "USER01",
                                    "6": "NULL",
                                    "7": "1",
                                    "8": "0",
                                    "9": "1"
                                },
                                {
                                    "0": "DH10",
                                    "1": "Đây là ghi chú của đơn hàng 10",
                                    "2": "715000",
                                    "3": "Đây là địa chỉ giao hàng của đơn số 10",
                                    "4": "4712983760",
                                    "5": "USER09",
                                    "6": "NULL",
                                    "7": "0",
                                    "8": "0",
                                    "9": "0"
                                },
                                {
                                    "0": "DH11",
                                    "1": "Đây là ghi chú của đơn hàng 11",
                                    "2": "630000",
                                    "3": "Đây là địa chỉ giao hàng của đơn số 11",
                                    "4": "5636984148",
                                    "5": "USER015",
                                    "6": "NULL",
                                    "7": "0",
                                    "8": "1",
                                    "9": "0"
                                },
                                {
                                    "0": "DH12",
                                    "1": "Đây là ghi chú của đơn hàng 12",
                                    "2": "455000",
                                    "3": "Đây là địa chỉ giao hàng của đơn số 12",
                                    "4": "3406952030",
                                    "5": "USER020",
                                    "6": "NULL",
                                    "7": "1",
                                    "8": "1",
                                    "9": "1"
                                },
                                {
                                    "0": "DH13",
                                    "1": "Đây là ghi chú của đơn hàng 13",
                                    "2": "325000",
                                    "3": "Đây là địa chỉ giao hàng của đơn số 13",
                                    "4": "6712924345",
                                    "5": "USER05",
                                    "6": "NULL",
                                    "7": "1",
                                    "8": "1",
                                    "9": "1"
                                },
                                {
                                    "0": "DH14",
                                    "1": "Đây là ghi chú của đơn hàng 14",
                                    "2": "325000",
                                    "3": "Đây là địa chỉ giao hàng của đơn số 14",
                                    "4": "6822116424",
                                    "5": "USER014",
                                    "6": "NULL",
                                    "7": "0",
                                    "8": "1",
                                    "9": "0"
                                },
                                {
                                    "0": "DH15",
                                    "1": "Đây là ghi chú của đơn hàng 15",
                                    "2": "845000",
                                    "3": "Đây là địa chỉ giao hàng của đơn số 15",
                                    "4": "3337099113",
                                    "5": "USER010",
                                    "6": "NULL",
                                    "7": "0",
                                    "8": "1",
                                    "9": "1"
                                },
                                {
                                    "0": "DH16",
                                    "1": "Đây là ghi chú của đơn hàng 16",
                                    "2": "825000",
                                    "3": "Đây là địa chỉ giao hàng của đơn số 16",
                                    "4": "9765385336",
                                    "5": "USER08",
                                    "6": "NULL",
                                    "7": "1",
                                    "8": "1",
                                    "9": "0"
                                },
                                {
                                    "0": "DH17",
                                    "1": "Đây là ghi chú của đơn hàng 17",
                                    "2": "850000",
                                    "3": "Đây là địa chỉ giao hàng của đơn số 17",
                                    "4": "4355137651",
                                    "5": "USER010",
                                    "6": "NULL",
                                    "7": "0",
                                    "8": "0",
                                    "9": "1"
                                },
                                {
                                    "0": "DH18",
                                    "1": "Đây là ghi chú của đơn hàng 18",
                                    "2": "470000",
                                    "3": "Đây là địa chỉ giao hàng của đơn số 18",
                                    "4": "5360248638",
                                    "5": "USER019",
                                    "6": "NULL",
                                    "7": "1",
                                    "8": "1",
                                    "9": "0"
                                },
                                {
                                    "0": "DH19",
                                    "1": "Đây là ghi chú của đơn hàng 19",
                                    "2": "990000",
                                    "3": "Đây là địa chỉ giao hàng của đơn số 19",
                                    "4": "5466350248",
                                    "5": "USER014",
                                    "6": "NULL",
                                    "7": "0",
                                    "8": "0",
                                    "9": "0"
                                },
                                {
                                    "0": "DH2",
                                    "1": "Đây là ghi chú của đơn hàng 2",
                                    "2": "705000",
                                    "3": "Đây là địa chỉ giao hàng của đơn số 2",
                                    "4": "3871288026",
                                    "5": "USER08",
                                    "6": "NULL",
                                    "7": "1",
                                    "8": "1",
                                    "9": "0"
                                },
                                {
                                    "0": "DH20",
                                    "1": "Đây là ghi chú của đơn hàng 20",
                                    "2": "665000",
                                    "3": "Đây là địa chỉ giao hàng của đơn số 20",
                                    "4": "9854072217",
                                    "5": "USER03",
                                    "6": "NULL",
                                    "7": "0",
                                    "8": "1",
                                    "9": "0"
                                },
                                {
                                    "0": "DH3",
                                    "1": "Đây là ghi chú của đơn hàng 3",
                                    "2": "700000",
                                    "3": "Đây là địa chỉ giao hàng của đơn số 3",
                                    "4": "6777238724",
                                    "5": "USER04",
                                    "6": "NULL",
                                    "7": "1",
                                    "8": "1",
                                    "9": "0"
                                },
                                {
                                    "0": "DH4",
                                    "1": "Đây là ghi chú của đơn hàng 4",
                                    "2": "985000",
                                    "3": "Đây là địa chỉ giao hàng của đơn số 4",
                                    "4": "4356049876",
                                    "5": "USER09",
                                    "6": "NULL",
                                    "7": "1",
                                    "8": "0",
                                    "9": "1"
                                },
                                {
                                    "0": "DH5",
                                    "1": "Đây là ghi chú của đơn hàng 5",
                                    "2": "255000",
                                    "3": "Đây là địa chỉ giao hàng của đơn số 5",
                                    "4": "7232894765",
                                    "5": "USER01",
                                    "6": "NULL",
                                    "7": "1",
                                    "8": "1",
                                    "9": "1"
                                },
                                {
                                    "0": "DH6",
                                    "1": "Đây là ghi chú của đơn hàng 6",
                                    "2": "855000",
                                    "3": "Đây là địa chỉ giao hàng của đơn số 6",
                                    "4": "4624022618",
                                    "5": "USER03",
                                    "6": "NULL",
                                    "7": "0",
                                    "8": "1",
                                    "9": "1"
                                },
                                {
                                    "0": "DH7",
                                    "1": "Đây là ghi chú của đơn hàng 7",
                                    "2": "805000",
                                    "3": "Đây là địa chỉ giao hàng của đơn số 7",
                                    "4": "6356245908",
                                    "5": "USER02",
                                    "6": "NULL",
                                    "7": "1",
                                    "8": "1",
                                    "9": "1"
                                },
                                {
                                    "0": "DH8",
                                    "1": "Đây là ghi chú của đơn hàng 8",
                                    "2": "740000",
                                    "3": "Đây là địa chỉ giao hàng của đơn số 8",
                                    "4": "5232787384",
                                    "5": "USER00",
                                    "6": "NULL",
                                    "7": "1",
                                    "8": "1",
                                    "9": "1"
                                },
                                {
                                    "0": "DH9",
                                    "1": "Đây là ghi chú của đơn hàng 9",
                                    "2": "365000",
                                    "3": "Đây là địa chỉ giao hàng của đơn số 9",
                                    "4": "9351497550",
                                    "5": "USER016",
                                    "6": "NULL",
                                    "7": "1",
                                    "8": "0",
                                    "9": "1"
                                }
                            ]
                        },
                        "text/html": "<table><tr><th>MaHoaDon</th><th>GhiChu</th><th>TongThanhToan</th><th>DiaChiGiaoHang</th><th>SoDienThoai</th><th>MaKhachHang</th><th>ThoiGianGiaoHang</th><th>TrangThaiDonHang</th><th>TrangThaiGiaoHang</th><th>TrangThaiThanhToan</th></tr><tr><td>DH1</td><td>Đây là ghi chú của đơn hàng 1</td><td>360000</td><td>Đây là địa chỉ giao hàng của đơn số 1</td><td>6320600951</td><td>USER01</td><td>NULL</td><td>1</td><td>0</td><td>1</td></tr><tr><td>DH10</td><td>Đây là ghi chú của đơn hàng 10</td><td>715000</td><td>Đây là địa chỉ giao hàng của đơn số 10</td><td>4712983760</td><td>USER09</td><td>NULL</td><td>0</td><td>0</td><td>0</td></tr><tr><td>DH11</td><td>Đây là ghi chú của đơn hàng 11</td><td>630000</td><td>Đây là địa chỉ giao hàng của đơn số 11</td><td>5636984148</td><td>USER015</td><td>NULL</td><td>0</td><td>1</td><td>0</td></tr><tr><td>DH12</td><td>Đây là ghi chú của đơn hàng 12</td><td>455000</td><td>Đây là địa chỉ giao hàng của đơn số 12</td><td>3406952030</td><td>USER020</td><td>NULL</td><td>1</td><td>1</td><td>1</td></tr><tr><td>DH13</td><td>Đây là ghi chú của đơn hàng 13</td><td>325000</td><td>Đây là địa chỉ giao hàng của đơn số 13</td><td>6712924345</td><td>USER05</td><td>NULL</td><td>1</td><td>1</td><td>1</td></tr><tr><td>DH14</td><td>Đây là ghi chú của đơn hàng 14</td><td>325000</td><td>Đây là địa chỉ giao hàng của đơn số 14</td><td>6822116424</td><td>USER014</td><td>NULL</td><td>0</td><td>1</td><td>0</td></tr><tr><td>DH15</td><td>Đây là ghi chú của đơn hàng 15</td><td>845000</td><td>Đây là địa chỉ giao hàng của đơn số 15</td><td>3337099113</td><td>USER010</td><td>NULL</td><td>0</td><td>1</td><td>1</td></tr><tr><td>DH16</td><td>Đây là ghi chú của đơn hàng 16</td><td>825000</td><td>Đây là địa chỉ giao hàng của đơn số 16</td><td>9765385336</td><td>USER08</td><td>NULL</td><td>1</td><td>1</td><td>0</td></tr><tr><td>DH17</td><td>Đây là ghi chú của đơn hàng 17</td><td>850000</td><td>Đây là địa chỉ giao hàng của đơn số 17</td><td>4355137651</td><td>USER010</td><td>NULL</td><td>0</td><td>0</td><td>1</td></tr><tr><td>DH18</td><td>Đây là ghi chú của đơn hàng 18</td><td>470000</td><td>Đây là địa chỉ giao hàng của đơn số 18</td><td>5360248638</td><td>USER019</td><td>NULL</td><td>1</td><td>1</td><td>0</td></tr><tr><td>DH19</td><td>Đây là ghi chú của đơn hàng 19</td><td>990000</td><td>Đây là địa chỉ giao hàng của đơn số 19</td><td>5466350248</td><td>USER014</td><td>NULL</td><td>0</td><td>0</td><td>0</td></tr><tr><td>DH2</td><td>Đây là ghi chú của đơn hàng 2</td><td>705000</td><td>Đây là địa chỉ giao hàng của đơn số 2</td><td>3871288026</td><td>USER08</td><td>NULL</td><td>1</td><td>1</td><td>0</td></tr><tr><td>DH20</td><td>Đây là ghi chú của đơn hàng 20</td><td>665000</td><td>Đây là địa chỉ giao hàng của đơn số 20</td><td>9854072217</td><td>USER03</td><td>NULL</td><td>0</td><td>1</td><td>0</td></tr><tr><td>DH3</td><td>Đây là ghi chú của đơn hàng 3</td><td>700000</td><td>Đây là địa chỉ giao hàng của đơn số 3</td><td>6777238724</td><td>USER04</td><td>NULL</td><td>1</td><td>1</td><td>0</td></tr><tr><td>DH4</td><td>Đây là ghi chú của đơn hàng 4</td><td>985000</td><td>Đây là địa chỉ giao hàng của đơn số 4</td><td>4356049876</td><td>USER09</td><td>NULL</td><td>1</td><td>0</td><td>1</td></tr><tr><td>DH5</td><td>Đây là ghi chú của đơn hàng 5</td><td>255000</td><td>Đây là địa chỉ giao hàng của đơn số 5</td><td>7232894765</td><td>USER01</td><td>NULL</td><td>1</td><td>1</td><td>1</td></tr><tr><td>DH6</td><td>Đây là ghi chú của đơn hàng 6</td><td>855000</td><td>Đây là địa chỉ giao hàng của đơn số 6</td><td>4624022618</td><td>USER03</td><td>NULL</td><td>0</td><td>1</td><td>1</td></tr><tr><td>DH7</td><td>Đây là ghi chú của đơn hàng 7</td><td>805000</td><td>Đây là địa chỉ giao hàng của đơn số 7</td><td>6356245908</td><td>USER02</td><td>NULL</td><td>1</td><td>1</td><td>1</td></tr><tr><td>DH8</td><td>Đây là ghi chú của đơn hàng 8</td><td>740000</td><td>Đây là địa chỉ giao hàng của đơn số 8</td><td>5232787384</td><td>USER00</td><td>NULL</td><td>1</td><td>1</td><td>1</td></tr><tr><td>DH9</td><td>Đây là ghi chú của đơn hàng 9</td><td>365000</td><td>Đây là địa chỉ giao hàng của đơn số 9</td><td>9351497550</td><td>USER016</td><td>NULL</td><td>1</td><td>0</td><td>1</td></tr></table>"
                    },
                    "metadata": {}
                }
            ],
            "execution_count": 3
        },
        {
            "cell_type": "code",
            "source": [
                "Select sp.MaSP, sp.TenSP, sp.Gia, sp.ChiTiet, sp.Hinh,sp.MaLoaiSP, lsp.TenLoaiSanPham from SanPham sp LEFT JOIN  LoaiSanPham lsp on sp.MaLoaiSP=lsp.MaLoaiSP where sp.MaSP='SP00034' ORDER BY sp.MaSP"
            ],
            "metadata": {
                "azdata_cell_guid": "f260f66a-6ca3-462f-9087-b328d3110229",
                "language": "sql"
            },
            "outputs": [
                {
                    "output_type": "display_data",
                    "data": {
                        "text/html": "(51 rows affected)"
                    },
                    "metadata": {}
                },
                {
                    "output_type": "display_data",
                    "data": {
                        "text/html": "Total execution time: 00:00:00.023"
                    },
                    "metadata": {}
                },
                {
                    "output_type": "execute_result",
                    "metadata": {},
                    "execution_count": 3,
                    "data": {
                        "application/vnd.dataresource+json": {
                            "schema": {
                                "fields": [
                                    {
                                        "name": "MaSP"
                                    },
                                    {
                                        "name": "TenSP"
                                    },
                                    {
                                        "name": "Gia"
                                    },
                                    {
                                        "name": "ChiTiet"
                                    },
                                    {
                                        "name": "Hinh"
                                    },
                                    {
                                        "name": "MaLoaiSP"
                                    },
                                    {
                                        "name": "TenLoaiSanPham"
                                    }
                                ]
                            },
                            "data": [
                                {
                                    "0": "SP0001",
                                    "1": "SanPham1",
                                    "2": "1000000",
                                    "3": "ChiTietSanPham1",
                                    "4": "hello.png",
                                    "5": "lsp03",
                                    "6": "Bút vẽ"
                                },
                                {
                                    "0": "SP00011",
                                    "1": "SanPham11",
                                    "2": "90000",
                                    "3": "ChiTietSanPham11",
                                    "4": "product011.png",
                                    "5": "lsp01",
                                    "6": "NULL"
                                },
                                {
                                    "0": "SP00012",
                                    "1": "SanPham12",
                                    "2": "20000",
                                    "3": "ChiTietSanPham12",
                                    "4": "product012.png",
                                    "5": "lsp02",
                                    "6": "NULL"
                                },
                                {
                                    "0": "SP00013",
                                    "1": "SanPham13",
                                    "2": "5000",
                                    "3": "ChiTietSanPham13",
                                    "4": "product013.png",
                                    "5": "lsp04",
                                    "6": "Phác thảo"
                                },
                                {
                                    "0": "SP00014",
                                    "1": "SanPham14",
                                    "2": "100000",
                                    "3": "ChiTietSanPham14",
                                    "4": "product014.png",
                                    "5": "lsp05",
                                    "6": "Văn phòng phẩm"
                                },
                                {
                                    "0": "SP00015",
                                    "1": "SanPham15",
                                    "2": "20000",
                                    "3": "ChiTietSanPham15",
                                    "4": "product015.png",
                                    "5": "lsp01",
                                    "6": "NULL"
                                },
                                {
                                    "0": "SP00016",
                                    "1": "SanPham16",
                                    "2": "25000",
                                    "3": "ChiTietSanPham16",
                                    "4": "product016.png",
                                    "5": "lsp01",
                                    "6": "NULL"
                                },
                                {
                                    "0": "SP00017",
                                    "1": "SanPham17",
                                    "2": "75000",
                                    "3": "ChiTietSanPham17",
                                    "4": "product017.png",
                                    "5": "lsp04",
                                    "6": "Phác thảo"
                                },
                                {
                                    "0": "SP00018",
                                    "1": "SanPham18",
                                    "2": "20000",
                                    "3": "ChiTietSanPham18",
                                    "4": "product018.png",
                                    "5": "lsp05",
                                    "6": "Văn phòng phẩm"
                                },
                                {
                                    "0": "SP00019",
                                    "1": "SanPham19",
                                    "2": "20000",
                                    "3": "ChiTietSanPham19",
                                    "4": "product019.png",
                                    "5": "lsp01",
                                    "6": "NULL"
                                },
                                {
                                    "0": "SP0002",
                                    "1": "SanPham2",
                                    "2": "95000",
                                    "3": "ChiTietSanPham2",
                                    "4": "product02.png",
                                    "5": "lsp04",
                                    "6": "Phác thảo"
                                },
                                {
                                    "0": "SP00020",
                                    "1": "SanPham20",
                                    "2": "100000",
                                    "3": "ChiTietSanPham20",
                                    "4": "product020.png",
                                    "5": "lsp01",
                                    "6": "NULL"
                                },
                                {
                                    "0": "SP00021",
                                    "1": "SanPham21",
                                    "2": "60000",
                                    "3": "ChiTietSanPham21",
                                    "4": "product021.png",
                                    "5": "lsp06",
                                    "6": "Dụng cụ hỗ trợ"
                                },
                                {
                                    "0": "SP00022",
                                    "1": "SanPham22",
                                    "2": "55000",
                                    "3": "ChiTietSanPham22",
                                    "4": "product022.png",
                                    "5": "lsp06",
                                    "6": "Dụng cụ hỗ trợ"
                                },
                                {
                                    "0": "SP00023",
                                    "1": "SanPham23",
                                    "2": "95000",
                                    "3": "ChiTietSanPham23",
                                    "4": "product023.png",
                                    "5": "lsp04",
                                    "6": "Phác thảo"
                                },
                                {
                                    "0": "SP00024",
                                    "1": "SanPham24",
                                    "2": "10000",
                                    "3": "ChiTietSanPham24",
                                    "4": "product024.png",
                                    "5": "lsp06",
                                    "6": "Dụng cụ hỗ trợ"
                                },
                                {
                                    "0": "SP00025",
                                    "1": "SanPham25",
                                    "2": "100000",
                                    "3": "ChiTietSanPham25",
                                    "4": "product025.png",
                                    "5": "lsp06",
                                    "6": "Dụng cụ hỗ trợ"
                                },
                                {
                                    "0": "SP00026",
                                    "1": "SanPham26",
                                    "2": "30000",
                                    "3": "ChiTietSanPham26",
                                    "4": "product026.png",
                                    "5": "lsp01",
                                    "6": "NULL"
                                },
                                {
                                    "0": "SP00027",
                                    "1": "SanPham27",
                                    "2": "75000",
                                    "3": "ChiTietSanPham27",
                                    "4": "product027.png",
                                    "5": "lsp03",
                                    "6": "Bút vẽ"
                                },
                                {
                                    "0": "SP00028",
                                    "1": "SanPham28",
                                    "2": "100000",
                                    "3": "ChiTietSanPham28",
                                    "4": "product028.png",
                                    "5": "lsp05",
                                    "6": "Văn phòng phẩm"
                                },
                                {
                                    "0": "SP00029",
                                    "1": "SanPham29",
                                    "2": "60000",
                                    "3": "ChiTietSanPham29",
                                    "4": "product029.png",
                                    "5": "lsp02",
                                    "6": "NULL"
                                },
                                {
                                    "0": "SP0003",
                                    "1": "SanPham3",
                                    "2": "70000",
                                    "3": "ChiTietSanPham3",
                                    "4": "product03.png",
                                    "5": "lsp04",
                                    "6": "Phác thảo"
                                },
                                {
                                    "0": "SP00030",
                                    "1": "SanPham30",
                                    "2": "70000",
                                    "3": "ChiTietSanPham30",
                                    "4": "product030.png",
                                    "5": "lsp05",
                                    "6": "Văn phòng phẩm"
                                },
                                {
                                    "0": "SP00031",
                                    "1": "SanPham31",
                                    "2": "50000",
                                    "3": "ChiTietSanPham31",
                                    "4": "product031.png",
                                    "5": "lsp01",
                                    "6": "NULL"
                                },
                                {
                                    "0": "SP00032",
                                    "1": "SanPham32",
                                    "2": "95000",
                                    "3": "ChiTietSanPham32",
                                    "4": "product032.png",
                                    "5": "lsp04",
                                    "6": "Phác thảo"
                                },
                                {
                                    "0": "SP00033",
                                    "1": "SanPham33",
                                    "2": "20000",
                                    "3": "ChiTietSanPham33",
                                    "4": "product033.png",
                                    "5": "lsp01",
                                    "6": "NULL"
                                },
                                {
                                    "0": "SP00034",
                                    "1": "SanPham34",
                                    "2": "5000",
                                    "3": "ChiTietSanPham34",
                                    "4": "product034.png",
                                    "5": "lsp02",
                                    "6": "NULL"
                                },
                                {
                                    "0": "SP00035",
                                    "1": "SanPham35",
                                    "2": "75000",
                                    "3": "ChiTietSanPham35",
                                    "4": "product035.png",
                                    "5": "lsp06",
                                    "6": "Dụng cụ hỗ trợ"
                                },
                                {
                                    "0": "SP00036",
                                    "1": "SanPham36",
                                    "2": "40000",
                                    "3": "ChiTietSanPham36",
                                    "4": "product036.png",
                                    "5": "lsp06",
                                    "6": "Dụng cụ hỗ trợ"
                                },
                                {
                                    "0": "SP00037",
                                    "1": "SanPham37",
                                    "2": "75000",
                                    "3": "ChiTietSanPham37",
                                    "4": "product037.png",
                                    "5": "lsp01",
                                    "6": "NULL"
                                },
                                {
                                    "0": "SP00038",
                                    "1": "SanPham38",
                                    "2": "75000",
                                    "3": "ChiTietSanPham38",
                                    "4": "product038.png",
                                    "5": "lsp03",
                                    "6": "Bút vẽ"
                                },
                                {
                                    "0": "SP00039",
                                    "1": "SanPham39",
                                    "2": "40000",
                                    "3": "ChiTietSanPham39",
                                    "4": "product039.png",
                                    "5": "lsp01",
                                    "6": "NULL"
                                },
                                {
                                    "0": "SP0004",
                                    "1": "SanPham4",
                                    "2": "30000",
                                    "3": "ChiTietSanPham4",
                                    "4": "product04.png",
                                    "5": "lsp04",
                                    "6": "Phác thảo"
                                },
                                {
                                    "0": "SP00040",
                                    "1": "SanPham40",
                                    "2": "30000",
                                    "3": "ChiTietSanPham40",
                                    "4": "product040.png",
                                    "5": "lsp01",
                                    "6": "NULL"
                                },
                                {
                                    "0": "SP00041",
                                    "1": "SanPham41",
                                    "2": "40000",
                                    "3": "ChiTietSanPham41",
                                    "4": "product041.png",
                                    "5": "lsp02",
                                    "6": "NULL"
                                },
                                {
                                    "0": "SP00042",
                                    "1": "SanPham42",
                                    "2": "10000",
                                    "3": "ChiTietSanPham42",
                                    "4": "product042.png",
                                    "5": "lsp06",
                                    "6": "Dụng cụ hỗ trợ"
                                },
                                {
                                    "0": "SP00043",
                                    "1": "SanPham43",
                                    "2": "35000",
                                    "3": "ChiTietSanPham43",
                                    "4": "product043.png",
                                    "5": "lsp01",
                                    "6": "NULL"
                                },
                                {
                                    "0": "SP00044",
                                    "1": "SanPham44",
                                    "2": "50000",
                                    "3": "ChiTietSanPham44",
                                    "4": "product044.png",
                                    "5": "lsp04",
                                    "6": "Phác thảo"
                                },
                                {
                                    "0": "SP00045",
                                    "1": "SanPham45",
                                    "2": "70000",
                                    "3": "ChiTietSanPham45",
                                    "4": "product045.png",
                                    "5": "lsp03",
                                    "6": "Bút vẽ"
                                },
                                {
                                    "0": "SP00046",
                                    "1": "SanPham46",
                                    "2": "65000",
                                    "3": "ChiTietSanPham46",
                                    "4": "product046.png",
                                    "5": "lsp05",
                                    "6": "Văn phòng phẩm"
                                },
                                {
                                    "0": "SP00047",
                                    "1": "SanPham47",
                                    "2": "30000",
                                    "3": "ChiTietSanPham47",
                                    "4": "product047.png",
                                    "5": "lsp04",
                                    "6": "Phác thảo"
                                },
                                {
                                    "0": "SP00048",
                                    "1": "SanPham48",
                                    "2": "55000",
                                    "3": "ChiTietSanPham48",
                                    "4": "product048.png",
                                    "5": "lsp04",
                                    "6": "Phác thảo"
                                },
                                {
                                    "0": "SP00049",
                                    "1": "SanPham49",
                                    "2": "20000",
                                    "3": "ChiTietSanPham49",
                                    "4": "product049.png",
                                    "5": "lsp02",
                                    "6": "NULL"
                                },
                                {
                                    "0": "SP0005",
                                    "1": "SanPham5",
                                    "2": "40000",
                                    "3": "ChiTietSanPham5",
                                    "4": "product05.png",
                                    "5": "lsp06",
                                    "6": "Dụng cụ hỗ trợ"
                                },
                                {
                                    "0": "SP00050",
                                    "1": "SanPham50",
                                    "2": "25000",
                                    "3": "ChiTietSanPham50",
                                    "4": "product050.png",
                                    "5": "lsp05",
                                    "6": "Văn phòng phẩm"
                                },
                                {
                                    "0": "SP0006",
                                    "1": "SanPham6",
                                    "2": "30000",
                                    "3": "ChiTietSanPham6",
                                    "4": "product06.png",
                                    "5": "lsp04",
                                    "6": "Phác thảo"
                                },
                                {
                                    "0": "SP0007",
                                    "1": "SanPham7",
                                    "2": "40000",
                                    "3": "ChiTietSanPham7",
                                    "4": "product07.png",
                                    "5": "lsp06",
                                    "6": "Dụng cụ hỗ trợ"
                                },
                                {
                                    "0": "SP0008",
                                    "1": "SanPham8",
                                    "2": "75000",
                                    "3": "ChiTietSanPham8",
                                    "4": "product08.png",
                                    "5": "lsp02",
                                    "6": "NULL"
                                },
                                {
                                    "0": "SP0009",
                                    "1": "SanPham9",
                                    "2": "85000",
                                    "3": "ChiTietSanPham9",
                                    "4": "product09.png",
                                    "5": "lsp06",
                                    "6": "Dụng cụ hỗ trợ"
                                },
                                {
                                    "0": "test_add_sp",
                                    "1": "Test tên sản phẩm",
                                    "2": "8500011",
                                    "3": "ChiTietSanPham9_test01",
                                    "4": "mermaid-diagram-2022-12-06-214605.png",
                                    "5": "NULL",
                                    "6": "NULL"
                                },
                                {
                                    "0": "test_add_sp02",
                                    "1": "Tên sản phẩm",
                                    "2": "11111",
                                    "3": "111",
                                    "4": "mermaid-diagram-2022-12-06-214605.png",
                                    "5": "lsp00",
                                    "6": "NULL"
                                }
                            ]
                        },
                        "text/html": [
                            "<table>",
                            "<tr><th>MaSP</th><th>TenSP</th><th>Gia</th><th>ChiTiet</th><th>Hinh</th><th>MaLoaiSP</th><th>TenLoaiSanPham</th></tr>",
                            "<tr><td>SP0001</td><td>SanPham1</td><td>1000000</td><td>ChiTietSanPham1</td><td>hello.png</td><td>lsp03</td><td>Bút vẽ</td></tr>",
                            "<tr><td>SP00011</td><td>SanPham11</td><td>90000</td><td>ChiTietSanPham11</td><td>product011.png</td><td>lsp01</td><td>NULL</td></tr>",
                            "<tr><td>SP00012</td><td>SanPham12</td><td>20000</td><td>ChiTietSanPham12</td><td>product012.png</td><td>lsp02</td><td>NULL</td></tr>",
                            "<tr><td>SP00013</td><td>SanPham13</td><td>5000</td><td>ChiTietSanPham13</td><td>product013.png</td><td>lsp04</td><td>Phác thảo</td></tr>",
                            "<tr><td>SP00014</td><td>SanPham14</td><td>100000</td><td>ChiTietSanPham14</td><td>product014.png</td><td>lsp05</td><td>Văn phòng phẩm</td></tr>",
                            "<tr><td>SP00015</td><td>SanPham15</td><td>20000</td><td>ChiTietSanPham15</td><td>product015.png</td><td>lsp01</td><td>NULL</td></tr>",
                            "<tr><td>SP00016</td><td>SanPham16</td><td>25000</td><td>ChiTietSanPham16</td><td>product016.png</td><td>lsp01</td><td>NULL</td></tr>",
                            "<tr><td>SP00017</td><td>SanPham17</td><td>75000</td><td>ChiTietSanPham17</td><td>product017.png</td><td>lsp04</td><td>Phác thảo</td></tr>",
                            "<tr><td>SP00018</td><td>SanPham18</td><td>20000</td><td>ChiTietSanPham18</td><td>product018.png</td><td>lsp05</td><td>Văn phòng phẩm</td></tr>",
                            "<tr><td>SP00019</td><td>SanPham19</td><td>20000</td><td>ChiTietSanPham19</td><td>product019.png</td><td>lsp01</td><td>NULL</td></tr>",
                            "<tr><td>SP0002</td><td>SanPham2</td><td>95000</td><td>ChiTietSanPham2</td><td>product02.png</td><td>lsp04</td><td>Phác thảo</td></tr>",
                            "<tr><td>SP00020</td><td>SanPham20</td><td>100000</td><td>ChiTietSanPham20</td><td>product020.png</td><td>lsp01</td><td>NULL</td></tr>",
                            "<tr><td>SP00021</td><td>SanPham21</td><td>60000</td><td>ChiTietSanPham21</td><td>product021.png</td><td>lsp06</td><td>Dụng cụ hỗ trợ</td></tr>",
                            "<tr><td>SP00022</td><td>SanPham22</td><td>55000</td><td>ChiTietSanPham22</td><td>product022.png</td><td>lsp06</td><td>Dụng cụ hỗ trợ</td></tr>",
                            "<tr><td>SP00023</td><td>SanPham23</td><td>95000</td><td>ChiTietSanPham23</td><td>product023.png</td><td>lsp04</td><td>Phác thảo</td></tr>",
                            "<tr><td>SP00024</td><td>SanPham24</td><td>10000</td><td>ChiTietSanPham24</td><td>product024.png</td><td>lsp06</td><td>Dụng cụ hỗ trợ</td></tr>",
                            "<tr><td>SP00025</td><td>SanPham25</td><td>100000</td><td>ChiTietSanPham25</td><td>product025.png</td><td>lsp06</td><td>Dụng cụ hỗ trợ</td></tr>",
                            "<tr><td>SP00026</td><td>SanPham26</td><td>30000</td><td>ChiTietSanPham26</td><td>product026.png</td><td>lsp01</td><td>NULL</td></tr>",
                            "<tr><td>SP00027</td><td>SanPham27</td><td>75000</td><td>ChiTietSanPham27</td><td>product027.png</td><td>lsp03</td><td>Bút vẽ</td></tr>",
                            "<tr><td>SP00028</td><td>SanPham28</td><td>100000</td><td>ChiTietSanPham28</td><td>product028.png</td><td>lsp05</td><td>Văn phòng phẩm</td></tr>",
                            "<tr><td>SP00029</td><td>SanPham29</td><td>60000</td><td>ChiTietSanPham29</td><td>product029.png</td><td>lsp02</td><td>NULL</td></tr>",
                            "<tr><td>SP0003</td><td>SanPham3</td><td>70000</td><td>ChiTietSanPham3</td><td>product03.png</td><td>lsp04</td><td>Phác thảo</td></tr>",
                            "<tr><td>SP00030</td><td>SanPham30</td><td>70000</td><td>ChiTietSanPham30</td><td>product030.png</td><td>lsp05</td><td>Văn phòng phẩm</td></tr>",
                            "<tr><td>SP00031</td><td>SanPham31</td><td>50000</td><td>ChiTietSanPham31</td><td>product031.png</td><td>lsp01</td><td>NULL</td></tr>",
                            "<tr><td>SP00032</td><td>SanPham32</td><td>95000</td><td>ChiTietSanPham32</td><td>product032.png</td><td>lsp04</td><td>Phác thảo</td></tr>",
                            "<tr><td>SP00033</td><td>SanPham33</td><td>20000</td><td>ChiTietSanPham33</td><td>product033.png</td><td>lsp01</td><td>NULL</td></tr>",
                            "<tr><td>SP00034</td><td>SanPham34</td><td>5000</td><td>ChiTietSanPham34</td><td>product034.png</td><td>lsp02</td><td>NULL</td></tr>",
                            "<tr><td>SP00035</td><td>SanPham35</td><td>75000</td><td>ChiTietSanPham35</td><td>product035.png</td><td>lsp06</td><td>Dụng cụ hỗ trợ</td></tr>",
                            "<tr><td>SP00036</td><td>SanPham36</td><td>40000</td><td>ChiTietSanPham36</td><td>product036.png</td><td>lsp06</td><td>Dụng cụ hỗ trợ</td></tr>",
                            "<tr><td>SP00037</td><td>SanPham37</td><td>75000</td><td>ChiTietSanPham37</td><td>product037.png</td><td>lsp01</td><td>NULL</td></tr>",
                            "<tr><td>SP00038</td><td>SanPham38</td><td>75000</td><td>ChiTietSanPham38</td><td>product038.png</td><td>lsp03</td><td>Bút vẽ</td></tr>",
                            "<tr><td>SP00039</td><td>SanPham39</td><td>40000</td><td>ChiTietSanPham39</td><td>product039.png</td><td>lsp01</td><td>NULL</td></tr>",
                            "<tr><td>SP0004</td><td>SanPham4</td><td>30000</td><td>ChiTietSanPham4</td><td>product04.png</td><td>lsp04</td><td>Phác thảo</td></tr>",
                            "<tr><td>SP00040</td><td>SanPham40</td><td>30000</td><td>ChiTietSanPham40</td><td>product040.png</td><td>lsp01</td><td>NULL</td></tr>",
                            "<tr><td>SP00041</td><td>SanPham41</td><td>40000</td><td>ChiTietSanPham41</td><td>product041.png</td><td>lsp02</td><td>NULL</td></tr>",
                            "<tr><td>SP00042</td><td>SanPham42</td><td>10000</td><td>ChiTietSanPham42</td><td>product042.png</td><td>lsp06</td><td>Dụng cụ hỗ trợ</td></tr>",
                            "<tr><td>SP00043</td><td>SanPham43</td><td>35000</td><td>ChiTietSanPham43</td><td>product043.png</td><td>lsp01</td><td>NULL</td></tr>",
                            "<tr><td>SP00044</td><td>SanPham44</td><td>50000</td><td>ChiTietSanPham44</td><td>product044.png</td><td>lsp04</td><td>Phác thảo</td></tr>",
                            "<tr><td>SP00045</td><td>SanPham45</td><td>70000</td><td>ChiTietSanPham45</td><td>product045.png</td><td>lsp03</td><td>Bút vẽ</td></tr>",
                            "<tr><td>SP00046</td><td>SanPham46</td><td>65000</td><td>ChiTietSanPham46</td><td>product046.png</td><td>lsp05</td><td>Văn phòng phẩm</td></tr>",
                            "<tr><td>SP00047</td><td>SanPham47</td><td>30000</td><td>ChiTietSanPham47</td><td>product047.png</td><td>lsp04</td><td>Phác thảo</td></tr>",
                            "<tr><td>SP00048</td><td>SanPham48</td><td>55000</td><td>ChiTietSanPham48</td><td>product048.png</td><td>lsp04</td><td>Phác thảo</td></tr>",
                            "<tr><td>SP00049</td><td>SanPham49</td><td>20000</td><td>ChiTietSanPham49</td><td>product049.png</td><td>lsp02</td><td>NULL</td></tr>",
                            "<tr><td>SP0005</td><td>SanPham5</td><td>40000</td><td>ChiTietSanPham5</td><td>product05.png</td><td>lsp06</td><td>Dụng cụ hỗ trợ</td></tr>",
                            "<tr><td>SP00050</td><td>SanPham50</td><td>25000</td><td>ChiTietSanPham50</td><td>product050.png</td><td>lsp05</td><td>Văn phòng phẩm</td></tr>",
                            "<tr><td>SP0006</td><td>SanPham6</td><td>30000</td><td>ChiTietSanPham6</td><td>product06.png</td><td>lsp04</td><td>Phác thảo</td></tr>",
                            "<tr><td>SP0007</td><td>SanPham7</td><td>40000</td><td>ChiTietSanPham7</td><td>product07.png</td><td>lsp06</td><td>Dụng cụ hỗ trợ</td></tr>",
                            "<tr><td>SP0008</td><td>SanPham8</td><td>75000</td><td>ChiTietSanPham8</td><td>product08.png</td><td>lsp02</td><td>NULL</td></tr>",
                            "<tr><td>SP0009</td><td>SanPham9</td><td>85000</td><td>ChiTietSanPham9</td><td>product09.png</td><td>lsp06</td><td>Dụng cụ hỗ trợ</td></tr>",
                            "<tr><td>test_add_sp</td><td>Test tên sản phẩm</td><td>8500011</td><td>ChiTietSanPham9_test01</td><td>mermaid-diagram-2022-12-06-214605.png</td><td>NULL</td><td>NULL</td></tr>",
                            "<tr><td>test_add_sp02</td><td>Tên sản phẩm</td><td>11111</td><td>111</td><td>mermaid-diagram-2022-12-06-214605.png</td><td>lsp00</td><td>NULL</td></tr>",
                            "</table>"
                        ]
                    }
                }
            ],
            "execution_count": 3
        }
    ]
}