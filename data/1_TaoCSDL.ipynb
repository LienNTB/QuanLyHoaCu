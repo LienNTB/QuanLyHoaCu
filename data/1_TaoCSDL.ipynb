{
    "metadata": {
        "kernelspec": {
            "name": "SQL",
            "display_name": "SQL",
            "language": "sql"
        },
        "language_info": {
            "name": "sql",
            "version": ""
        }
    },
    "nbformat_minor": 2,
    "nbformat": 4,
    "cells": [
        {
            "cell_type": "code",
            "source": [
                "-- Create a new table called '[SanPham]' in schema '[dbo]'\r\n",
                "-- Drop the table if it already exists\r\n",
                "IF OBJECT_ID('[dbo].[SanPham]', 'U') IS NOT NULL\r\n",
                "DROP TABLE [dbo].[SanPham]\r\n",
                "GO\r\n",
                "-- Create the table in the specified schema\r\n",
                "CREATE TABLE [dbo].[SanPham]\r\n",
                "(\r\n",
                "\tMaSP varchar(30) primary key,\r\n",
                "\tTenSP nvarchar(100),\r\n",
                "\tGia int,\r\n",
                "\tChiTiet nvarchar(200),\r\n",
                "\tHinh varchar(1000),\r\n",
                "\tMaLoaiSP varchar(30) \r\n",
                ");\r\n",
                "GO"
            ],
            "metadata": {
                "azdata_cell_guid": "3fb602ac-a4a5-4ea1-839c-903d5c2000fd",
                "language": "sql"
            },
            "outputs": [
                {
                    "output_type": "display_data",
                    "data": {
                        "text/html": "Commands completed successfully."
                    },
                    "metadata": {}
                },
                {
                    "output_type": "display_data",
                    "data": {
                        "text/html": "Commands completed successfully."
                    },
                    "metadata": {}
                },
                {
                    "output_type": "display_data",
                    "data": {
                        "text/html": "Total execution time: 00:00:00.043"
                    },
                    "metadata": {}
                }
            ],
            "execution_count": 1
        },
        {
            "cell_type": "code",
            "source": [
                "-- Create a new table called '[LoaiSanPham]' in schema '[dbo]'\r\n",
                "-- Drop the table if it already exists\r\n",
                "IF OBJECT_ID('[dbo].[LoaiSanPham]', 'U') IS NOT NULL\r\n",
                "DROP TABLE [dbo].[LoaiSanPham]\r\n",
                "GO\r\n",
                "-- Create the table in the specified schema\r\n",
                "CREATE TABLE [dbo].[LoaiSanPham]\r\n",
                "(\r\n",
                "\tMaLoaiSP varchar(30) primary key,\r\n",
                "\tTenLoaiSanPham nvarchar(200)\r\n",
                "    -- Specify more columns here\r\n",
                ");\r\n",
                "GO"
            ],
            "metadata": {
                "azdata_cell_guid": "28d683da-b263-4fe5-91a9-e094a27607b5",
                "language": "sql"
            },
            "outputs": [
                {
                    "output_type": "display_data",
                    "data": {
                        "text/html": "Commands completed successfully."
                    },
                    "metadata": {}
                },
                {
                    "output_type": "display_data",
                    "data": {
                        "text/html": "Commands completed successfully."
                    },
                    "metadata": {}
                },
                {
                    "output_type": "display_data",
                    "data": {
                        "text/html": "Total execution time: 00:00:00.014"
                    },
                    "metadata": {}
                }
            ],
            "execution_count": 2
        },
        {
            "cell_type": "code",
            "source": [
                "-- Create a new table called '[HoaDon]' in schema '[dbo]'\r\n",
                "-- Drop the table if it already exists\r\n",
                "IF OBJECT_ID('[dbo].[HoaDon]', 'U') IS NOT NULL\r\n",
                "DROP TABLE [dbo].[HoaDon]\r\n",
                "GO\r\n",
                "-- Create the table in the specified schema\r\n",
                "CREATE TABLE [dbo].[HoaDon] \r\n",
                "(\r\n",
                "    MaHoaDon varchar(30) primary key,\r\n",
                "    GhiChu nvarchar(200),\r\n",
                "    TongThanhToan int,\r\n",
                "    DiaChiGiaoHang nvarchar(200),\r\n",
                "    SoDienThoai varchar(13),\r\n",
                "    MaKhachHang varchar(30),\r\n",
                "    ThoiGianGiaoHang DateTime,\r\n",
                "    TrangThaiDonHang bit,\r\n",
                "    TrangThaiGiaoHang bit,\r\n",
                "    TrangThaiThanhToan bit,\r\n",
                "    -- Specify more columns here\r\n",
                ");\r\n",
                "GO\r\n",
                ""
            ],
            "metadata": {
                "azdata_cell_guid": "66d2a527-175c-4791-ae40-7bcbb5a7d085",
                "language": "sql"
            },
            "outputs": [
                {
                    "output_type": "display_data",
                    "data": {
                        "text/html": "Commands completed successfully."
                    },
                    "metadata": {}
                },
                {
                    "output_type": "display_data",
                    "data": {
                        "text/html": "Commands completed successfully."
                    },
                    "metadata": {}
                },
                {
                    "output_type": "display_data",
                    "data": {
                        "text/html": "Total execution time: 00:00:00.021"
                    },
                    "metadata": {}
                }
            ],
            "execution_count": 3
        },
        {
            "cell_type": "code",
            "source": [
                "-- Create a new table called '[ChiTietHoaDon]' in schema '[dbo]'\r\n",
                "-- Drop the table if it already exists\r\n",
                "IF OBJECT_ID('[dbo].[ChiTietHoaDon]', 'U') IS NOT NULL\r\n",
                "DROP TABLE [dbo].[ChiTietHoaDon]\r\n",
                "GO\r\n",
                "-- Create the table in the specified schema\r\n",
                "CREATE TABLE [dbo].[ChiTietHoaDon]\r\n",
                "(\r\n",
                "    MaHoaDon varchar(30)  not null,\r\n",
                "    MaSP varchar(30)  not null,\r\n",
                "    SoLuong int,\r\n",
                "    TongPhu float --soluong*giasanpham\r\n",
                ");\r\n",
                "GO\r\n",
                "\r\n",
                ""
            ],
            "metadata": {
                "azdata_cell_guid": "c9b4fef9-5399-4594-ba20-301bdda9b34f",
                "language": "sql"
            },
            "outputs": [
                {
                    "output_type": "display_data",
                    "data": {
                        "text/html": "Commands completed successfully."
                    },
                    "metadata": {}
                },
                {
                    "output_type": "display_data",
                    "data": {
                        "text/html": "Commands completed successfully."
                    },
                    "metadata": {}
                },
                {
                    "output_type": "display_data",
                    "data": {
                        "text/html": "Total execution time: 00:00:00.015"
                    },
                    "metadata": {}
                }
            ],
            "execution_count": 4
        },
        {
            "cell_type": "code",
            "source": [
                "-- Create a new table called '[NguoiDung]' in schema '[dbo]'\r\n",
                "-- Drop the table if it already exists\r\n",
                "IF OBJECT_ID('[dbo].[NguoiDung]', 'U') IS NOT NULL\r\n",
                "DROP TABLE [dbo].[NguoiDung]\r\n",
                "GO\r\n",
                "-- Create the table in the specified schema\r\n",
                "CREATE TABLE [dbo].[NguoiDung]\r\n",
                "(\r\n",
                "\tMaNguoiDung varchar(30)  primary key,\r\n",
                "\tTenDangNhap varchar(30) unique,\r\n",
                "\tMatKhau varchar(100),\r\n",
                "\tHoTen nvarchar(100),\r\n",
                "\tNgaySinh date,\r\n",
                "\tDiaChi nvarchar(100),\r\n",
                "\tRoleID varchar(10)\r\n",
                ");\r\n",
                "GO"
            ],
            "metadata": {
                "azdata_cell_guid": "62760d07-2d47-4d99-b979-177d083e9028",
                "language": "sql"
            },
            "outputs": [
                {
                    "output_type": "display_data",
                    "data": {
                        "text/html": "Commands completed successfully."
                    },
                    "metadata": {}
                },
                {
                    "output_type": "display_data",
                    "data": {
                        "text/html": "Commands completed successfully."
                    },
                    "metadata": {}
                },
                {
                    "output_type": "display_data",
                    "data": {
                        "text/html": "Total execution time: 00:00:00.009"
                    },
                    "metadata": {}
                }
            ],
            "execution_count": 5
        },
        {
            "cell_type": "code",
            "source": [
                ""
            ],
            "metadata": {
                "language": "sql",
                "azdata_cell_guid": "61729b63-2429-4107-ab83-87ac651aa0ca"
            },
            "outputs": [
                {
                    "output_type": "display_data",
                    "data": {
                        "text/html": "Commands completed successfully."
                    },
                    "metadata": {}
                },
                {
                    "output_type": "display_data",
                    "data": {
                        "text/html": "Total execution time: 00:00:00"
                    },
                    "metadata": {}
                }
            ],
            "execution_count": 6
        },
        {
            "cell_type": "markdown",
            "source": [
                "Create the table in the specified schema"
            ],
            "metadata": {
                "azdata_cell_guid": "bd453dee-f551-44fc-9767-1e4d7191d4e7"
            }
        },
        {
            "cell_type": "code",
            "source": [
                "-- Drop a table called 'ROLE' in schema 'dbo'\n",
                "-- Drop the table if it already exists\n",
                "IF OBJECT_ID('[dbo].[ROLE]', 'U') IS NOT NULL\n",
                "DROP TABLE [dbo].[ROLE]\n",
                "GO\n",
                "CREATE TABLE [dbo].[ROLE]\n",
                "(\n",
                "\tRoleID varchar(10) primary key,\n",
                "\tRoleName varchar(100) not null,\n",
                ");"
            ],
            "metadata": {
                "azdata_cell_guid": "f9e817fb-030e-4bee-ba8f-01578c78e744",
                "language": "sql"
            },
            "outputs": [
                {
                    "output_type": "display_data",
                    "data": {
                        "text/html": "Commands completed successfully."
                    },
                    "metadata": {}
                },
                {
                    "output_type": "display_data",
                    "data": {
                        "text/html": "Commands completed successfully."
                    },
                    "metadata": {}
                },
                {
                    "output_type": "display_data",
                    "data": {
                        "text/html": "Total execution time: 00:00:00.050"
                    },
                    "metadata": {}
                }
            ],
            "execution_count": 7
        },
        {
            "cell_type": "code",
            "source": [
                "INSERT INTO [dbo].[NguoiDung]\r\n",
                "( -- Columns to insert data into\r\n",
                " [MaNguoiDung], [TenDangNhap], [MatKhau]\r\n",
                ")\r\n",
                "VALUES\r\n",
                "( -- First row: values for the columns in the list above\r\n",
                " 'test_user','ngocphat','ngocphat'\r\n",
                "),\r\n",
                "(\r\n",
                "     '000','nimda','ngocphat'\r\n",
                ")\r\n",
                "\r\n",
                "-- Add more rows here\r\n",
                "GO"
            ],
            "metadata": {
                "language": "sql",
                "azdata_cell_guid": "a2773a7e-5f93-42e7-b0bd-54b37d323e2e"
            },
            "outputs": [
                {
                    "output_type": "display_data",
                    "data": {
                        "text/html": "(2 rows affected)"
                    },
                    "metadata": {}
                },
                {
                    "output_type": "display_data",
                    "data": {
                        "text/html": "Total execution time: 00:00:00.080"
                    },
                    "metadata": {}
                }
            ],
            "execution_count": 8
        },
        {
            "cell_type": "code",
            "source": [
                "-- Insert rows into table 'ROLE' in schema '[dbo]'\r\n",
                "INSERT INTO [dbo].[ROLE]\r\n",
                "( -- Columns to insert data into\r\n",
                " [RoleID], [RoleName]\r\n",
                ")\r\n",
                "VALUES\r\n",
                "( -- First row: values for the columns in the list above\r\n",
                " '000','ADMIN'\r\n",
                "),\r\n",
                "( -- Second row: values for the columns in the list above\r\n",
                " '001','USER'\r\n",
                ")\r\n",
                "-- Add more rows here\r\n",
                "GO"
            ],
            "metadata": {
                "language": "sql",
                "azdata_cell_guid": "a28592ae-1083-4621-a1ce-3def784eccc3",
                "tags": [
                    "hide_input"
                ]
            },
            "outputs": [
                {
                    "output_type": "display_data",
                    "data": {
                        "text/html": "(2 rows affected)"
                    },
                    "metadata": {}
                },
                {
                    "output_type": "display_data",
                    "data": {
                        "text/html": "Total execution time: 00:00:00.004"
                    },
                    "metadata": {}
                }
            ],
            "execution_count": 9
        },
        {
            "cell_type": "code",
            "source": [
                "alter table [dbo].[SanPham]\n",
                "add CONSTRAINT FK_SanPhamVaLoaiSanPham\n",
                "    FOREIGN key (MaLoaiSP)\n",
                "    REFERENCES [dbo].[LoaiSanPham](MaLoaiSP)\n",
                "ON UPDATE CASCADE\n",
                "ON DELETE CASCADE\n",
                "\n",
                "alter table [dbo].[ChiTietHoaDon]\n",
                "ADD PRIMARY KEY (MaHoaDon, MaSP);"
            ],
            "metadata": {
                "azdata_cell_guid": "813ef60d-54fa-4e7f-b7cc-f345d8cc2bcc",
                "language": "sql"
            },
            "outputs": [
                {
                    "output_type": "display_data",
                    "data": {
                        "text/html": "Commands completed successfully."
                    },
                    "metadata": {}
                },
                {
                    "output_type": "display_data",
                    "data": {
                        "text/html": "Total execution time: 00:00:00.115"
                    },
                    "metadata": {}
                }
            ],
            "execution_count": 10
        },
        {
            "cell_type": "code",
            "source": [
                "ALTER table [dbo].[ChiTietHoaDon]\n",
                "add CONSTRAINT FK_MaSP\n",
                "FOREIGN key (MaSP)\n",
                "REFERENCES [dbo].[SanPham](MaSP)"
            ],
            "metadata": {
                "azdata_cell_guid": "10fb9bb2-85a5-4fee-80ec-9a6299f4706e",
                "language": "sql"
            },
            "outputs": [
                {
                    "output_type": "display_data",
                    "data": {
                        "text/html": "Commands completed successfully."
                    },
                    "metadata": {}
                },
                {
                    "output_type": "display_data",
                    "data": {
                        "text/html": "Total execution time: 00:00:00.004"
                    },
                    "metadata": {}
                }
            ],
            "execution_count": 11
        },
        {
            "cell_type": "code",
            "source": [
                "alter table [dbo].[ChiTietHoaDon]\n",
                "add constraint FK_MaHoaDon\n",
                "foreign key (MaHoaDon) \n",
                "REFERENCES [dbo].[HoaDon](MaHoaDon)"
            ],
            "metadata": {
                "azdata_cell_guid": "fa30619c-8e61-44c8-ae04-0e872d3fdcd6",
                "language": "sql"
            },
            "outputs": [
                {
                    "output_type": "display_data",
                    "data": {
                        "text/html": "Commands completed successfully."
                    },
                    "metadata": {}
                },
                {
                    "output_type": "display_data",
                    "data": {
                        "text/html": "Total execution time: 00:00:00.020"
                    },
                    "metadata": {}
                }
            ],
            "execution_count": 12
        },
        {
            "cell_type": "code",
            "source": [
                "alter table [dbo].[NguoiDung]\n",
                "add constraint FK_UserAndRole\n",
                "foreign key (RoleID) \n",
                "REFERENCES [dbo].[ROLE](RoleID)"
            ],
            "metadata": {
                "azdata_cell_guid": "00e6bc86-5366-441f-b797-600c6a236a57",
                "language": "sql"
            },
            "outputs": [
                {
                    "output_type": "display_data",
                    "data": {
                        "text/html": "Commands completed successfully."
                    },
                    "metadata": {}
                },
                {
                    "output_type": "display_data",
                    "data": {
                        "text/html": "Total execution time: 00:00:00.036"
                    },
                    "metadata": {}
                }
            ],
            "execution_count": 13
        },
        {
            "cell_type": "code",
            "source": [
                "alter table [dbo].[HoaDon]\n",
                "\tadd constraint FK_UserAndOrder\n",
                "\tforeign key (MaKhachHang) \n",
                "\tREFERENCES [dbo].[NguoiDung](MaNguoiDung)"
            ],
            "metadata": {
                "azdata_cell_guid": "b6e951da-0c81-46f8-ac5a-187a79de6a39",
                "language": "sql"
            },
            "outputs": [
                {
                    "output_type": "display_data",
                    "data": {
                        "text/html": "Commands completed successfully."
                    },
                    "metadata": {}
                },
                {
                    "output_type": "display_data",
                    "data": {
                        "text/html": "Total execution time: 00:00:00.012"
                    },
                    "metadata": {}
                }
            ],
            "execution_count": 14
        },
        {
            "cell_type": "code",
            "source": [
                "CREATE TRIGGER newHoaDon_NewUser ON NguoiDung\r\n",
                "FOR INSERT\r\n",
                "AS BEGIN\r\n",
                "\tDECLARE @userID varchar(30)\r\n",
                "\tSET @userID = (select inserted.MaNguoiDung from inserted)\r\n",
                "\tinsert into HoaDon values (CONCAT('cart_',@userID),'',0,'','',@userID,'',0,0,0);\r\n",
                "end"
            ],
            "metadata": {
                "azdata_cell_guid": "1c3da364-f9a2-4c94-9618-456b37e0dcb5",
                "language": "sql"
            },
            "outputs": [
                {
                    "output_type": "error",
                    "evalue": "Msg 213, Level 16, State 1, Procedure newHoaDon_NewUser, Line 6\r\nColumn name or number of supplied values does not match table definition.",
                    "ename": "",
                    "traceback": []
                },
                {
                    "output_type": "display_data",
                    "data": {
                        "text/html": "Total execution time: 00:00:00.001"
                    },
                    "metadata": {}
                }
            ],
            "execution_count": 24
        }
    ]
}