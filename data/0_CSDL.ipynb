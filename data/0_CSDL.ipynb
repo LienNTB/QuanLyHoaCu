{
    "metadata": {
        "kernelspec": {
            "name": "SQL",
            "display_name": "SQL",
            "language": "sql"
        },
        "language_info": {
            "name": "sql",
            "version": ""
        }
    },
    "nbformat_minor": 2,
    "nbformat": 4,
    "cells": [
        {
            "cell_type": "code",
            "source": [
                "-- Create a new database called 'QUANLYHOACU'\r\n",
                "-- Connect to the 'master' database to run this snippet\r\n",
                "USE master\r\n",
                "GO\r\n",
                "-- Create the new database if it does not exist already\r\n",
                "IF NOT EXISTS (\r\n",
                "    SELECT [name]\r\n",
                "        FROM sys.databases\r\n",
                "        WHERE [name] = N'QUANLYHOACU'\r\n",
                ")\r\n",
                "CREATE DATABASE QUANLYHOACU\r\n",
                "GO\r\n",
                ""
            ],
            "metadata": {
                "azdata_cell_guid": "5c2c2a1f-86d4-45bd-afa2-b058335a4d7b",
                "language": "sql",
                "tags": []
            },
            "outputs": [
                {
                    "output_type": "display_data",
                    "data": {
                        "text/html": "Commands completed successfully."
                    },
                    "metadata": {}
                },
                {
                    "output_type": "display_data",
                    "data": {
                        "text/html": "Commands completed successfully."
                    },
                    "metadata": {}
                },
                {
                    "output_type": "display_data",
                    "data": {
                        "text/html": "Total execution time: 00:00:00.258"
                    },
                    "metadata": {}
                }
            ],
            "execution_count": 1
        }
    ]
}