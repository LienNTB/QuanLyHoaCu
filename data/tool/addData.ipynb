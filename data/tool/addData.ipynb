{
 "cells": [
  {
   "cell_type": "code",
   "execution_count": 3,
   "metadata": {},
   "outputs": [],
   "source": [
    "from random import *\n",
    "import string"
   ]
  },
  {
   "attachments": {},
   "cell_type": "markdown",
   "metadata": {},
   "source": []
  },
  {
   "cell_type": "code",
   "execution_count": 10,
   "metadata": {},
   "outputs": [
    {
     "name": "stdout",
     "output_type": "stream",
     "text": [
      "INSERT INTO [dbo].[SanPham] (MaSP, TenSP,Gia,ChiTiet,Hinh,MaLoaiSP) VALUES \n",
      "('SP0001','SanPham1',90000,'ChiTietSanPham1','product01.png','lsp03'),\n",
      "('SP0002','SanPham2',95000,'ChiTietSanPham2','product02.png','lsp03'),\n",
      "('SP0003','SanPham3',70000,'ChiTietSanPham3','product03.png','lsp03'),\n",
      "('SP0004','SanPham4',55000,'ChiTietSanPham4','product04.png','lsp01'),\n",
      "('SP0005','SanPham5',40000,'ChiTietSanPham5','product05.png','lsp03'),\n",
      "('SP0006','SanPham6',70000,'ChiTietSanPham6','product06.png','lsp02'),\n",
      "('SP0007','SanPham7',15000,'ChiTietSanPham7','product07.png','lsp03'),\n",
      "('SP0008','SanPham8',80000,'ChiTietSanPham8','product08.png','lsp02'),\n",
      "('SP0009','SanPham9',25000,'ChiTietSanPham9','product09.png','lsp02'),\n",
      "('SP00010','SanPham10',40000,'ChiTietSanPham10','product010.png','lsp05'),\n",
      "('SP00011','SanPham11',35000,'ChiTietSanPham11','product011.png','lsp03'),\n",
      "('SP00012','SanPham12',40000,'ChiTietSanPham12','product012.png','lsp04'),\n",
      "('SP00013','SanPham13',50000,'ChiTietSanPham13','product013.png','lsp04'),\n",
      "('SP00014','SanPham14',20000,'ChiTietSanPham14','product014.png','lsp06'),\n",
      "('SP00015','SanPham15',10000,'ChiTietSanPham15','product015.png','lsp03'),\n",
      "('SP00016','SanPham16',70000,'ChiTietSanPham16','product016.png','lsp03'),\n",
      "('SP00017','SanPham17',20000,'ChiTietSanPham17','product017.png','lsp03'),\n",
      "('SP00018','SanPham18',85000,'ChiTietSanPham18','product018.png','lsp03'),\n",
      "('SP00019','SanPham19',20000,'ChiTietSanPham19','product019.png','lsp06'),\n",
      "('SP00020','SanPham20',100000,'ChiTietSanPham20','product020.png','lsp05'),\n",
      "('SP00021','SanPham21',40000,'ChiTietSanPham21','product021.png','lsp02'),\n",
      "('SP00022','SanPham22',100000,'ChiTietSanPham22','product022.png','lsp04'),\n",
      "('SP00023','SanPham23',65000,'ChiTietSanPham23','product023.png','lsp02'),\n",
      "('SP00024','SanPham24',20000,'ChiTietSanPham24','product024.png','lsp01'),\n",
      "('SP00025','SanPham25',95000,'ChiTietSanPham25','product025.png','lsp03'),\n",
      "('SP00026','SanPham26',95000,'ChiTietSanPham26','product026.png','lsp01'),\n",
      "('SP00027','SanPham27',100000,'ChiTietSanPham27','product027.png','lsp02'),\n",
      "('SP00028','SanPham28',75000,'ChiTietSanPham28','product028.png','lsp01'),\n",
      "('SP00029','SanPham29',60000,'ChiTietSanPham29','product029.png','lsp03'),\n",
      "('SP00030','SanPham30',95000,'ChiTietSanPham30','product030.png','lsp01'),\n",
      "('SP00031','SanPham31',45000,'ChiTietSanPham31','product031.png','lsp06'),\n",
      "('SP00032','SanPham32',55000,'ChiTietSanPham32','product032.png','lsp04'),\n",
      "('SP00033','SanPham33',65000,'ChiTietSanPham33','product033.png','lsp05'),\n",
      "('SP00034','SanPham34',25000,'ChiTietSanPham34','product034.png','lsp03'),\n",
      "('SP00035','SanPham35',75000,'ChiTietSanPham35','product035.png','lsp01'),\n",
      "('SP00036','SanPham36',35000,'ChiTietSanPham36','product036.png','lsp01'),\n",
      "('SP00037','SanPham37',5000,'ChiTietSanPham37','product037.png','lsp01'),\n",
      "('SP00038','SanPham38',40000,'ChiTietSanPham38','product038.png','lsp01'),\n",
      "('SP00039','SanPham39',50000,'ChiTietSanPham39','product039.png','lsp06'),\n",
      "('SP00040','SanPham40',5000,'ChiTietSanPham40','product040.png','lsp05'),\n",
      "('SP00041','SanPham41',80000,'ChiTietSanPham41','product041.png','lsp04'),\n",
      "('SP00042','SanPham42',35000,'ChiTietSanPham42','product042.png','lsp05'),\n",
      "('SP00043','SanPham43',50000,'ChiTietSanPham43','product043.png','lsp06'),\n",
      "('SP00044','SanPham44',30000,'ChiTietSanPham44','product044.png','lsp03'),\n",
      "('SP00045','SanPham45',50000,'ChiTietSanPham45','product045.png','lsp03'),\n",
      "('SP00046','SanPham46',75000,'ChiTietSanPham46','product046.png','lsp02'),\n",
      "('SP00047','SanPham47',40000,'ChiTietSanPham47','product047.png','lsp03'),\n",
      "('SP00048','SanPham48',10000,'ChiTietSanPham48','product048.png','lsp03'),\n",
      "('SP00049','SanPham49',30000,'ChiTietSanPham49','product049.png','lsp05'),\n",
      "('SP00050','SanPham50',20000,'ChiTietSanPham50','product050.png','lsp03'),\n",
      "\n"
     ]
    }
   ],
   "source": [
    "soLuongMaLoai=6\n",
    "maLSPList=[]\n",
    "for i in range(0,soLuongMaLoai):\n",
    "    maLSPList.append(f\"lsp0{i+1}\")\n",
    "soLuongSanPham=50\n",
    "addSanPhamString=\"INSERT INTO [dbo].[SanPham] (MaSP, TenSP,Gia,ChiTiet,Hinh,MaLoaiSP) VALUES \\n\"\n",
    "for i in range(0,soLuongSanPham):\n",
    "    addSanPhamString=addSanPhamString+f\"('SP000{i+1}','SanPham{i+1}',{randint(1,20)*5000},'ChiTietSanPham{i+1}','product0{i+1}.png','{choice(maLSPList)}'),\\n\"\n",
    "print(addSanPhamString)\n"
   ]
  },
  {
   "cell_type": "code",
   "execution_count": 5,
   "metadata": {},
   "outputs": [
    {
     "name": "stdout",
     "output_type": "stream",
     "text": [
      "INSERT INTO [dbo].[NguoiDung] (MaNguoiDung, TenDangNhap,MatKhau,HoTen,NgaySinh,DiChi,RoleID) VALUES ('USER01','ngocphat1','123',N'Nguyễn Văn u','2002-07-12',N'Bình Chánh','001'),\n",
      "('USER02','aido2','123',N'Nguyễn Thị d','2002-07-12',N'Quận 9','001'),\n",
      "('USER03','ngocphat3','123',N'Nguyễn Ngọc l','2002-07-12',N'Quận 1','001'),\n",
      "('USER04','aido4','123',N'Nguyễn Ngọc g','2002-07-12',N'Thủ Đức','001'),\n",
      "('USER05','quynhhuong5','123',N'Nguyễn Thị p','2002-07-12',N'Quận 1','001'),\n",
      "('USER06','quynhhuong6','123',N'Nguyễn Ngọc f','2002-07-12',N'Bình Chánh','001'),\n",
      "('USER07','ngocphat7','123',N'Nguyễn Văn w','2002-07-12',N'Quận 9','001'),\n",
      "('USER08','bichlien8','123',N'Nguyễn Thị k','2002-07-12',N'Quận 2','001'),\n",
      "('USER09','aido9','123',N'Nguyễn Văn e','2002-07-12',N'Quận 9','001'),\n",
      "('USER010','aido10','123',N'Nguyễn Ngọc v','2002-07-12',N'Quận 9','001'),\n",
      "('USER011','bichlien11','123',N'Nguyễn Thị t','2002-07-12',N'Quận 2','001'),\n",
      "('USER012','aido12','123',N'Nguyễn Ngọc d','2002-07-12',N'Quận 1','001'),\n",
      "('USER013','quynhhuong13','123',N'Nguyễn Văn j','2002-07-12',N'Quận 1','001'),\n",
      "('USER014','quynhhuong14','123',N'Nguyễn Thị n','2002-07-12',N'Quận 9','001'),\n",
      "('USER015','quynhhuong15','123',N'Nguyễn Ngọc k','2002-07-12',N'Quận 2','001'),\n",
      "('USER016','bichlien16','123',N'Nguyễn Văn o','2002-07-12',N'Thủ Đức','001'),\n",
      "('USER017','aido17','123',N'Nguyễn Văn q','2002-07-12',N'Bình Chánh','001'),\n",
      "('USER018','quynhhuong18','123',N'Nguyễn Thị n','2002-07-12',N'Bình Chánh','001'),\n",
      "('USER019','bichlien19','123',N'Nguyễn Ngọc c','2002-07-12',N'Quận 2','001'),\n",
      "('USER020','bichlien20','123',N'Nguyễn Văn s','2002-07-12',N'Bình Chánh','001'),\n",
      "\n"
     ]
    }
   ],
   "source": [
    "soLuongNguoiDung=20\n",
    "usernameList=[\"ngocphat\",\"aido\", \"quynhhuong\",\"bichlien\"]\n",
    "hotenlist=[\"Nguyễn Ngọc\",\"Nguyễn Thị\", \"Nguyễn Văn\"]\n",
    "DiaChiList = ['Thủ Đức', \"Quận 9\", \"Quận 2\", \"Quận 1\", \"Bình Chánh\"]\n",
    "addSanPhamString=\"INSERT INTO [dbo].[NguoiDung] (MaNguoiDung, TenDangNhap,MatKhau,HoTen,NgaySinh,DiChi,RoleID) VALUES \"\n",
    "for i in range(0,soLuongNguoiDung):\n",
    "    addSanPhamString=addSanPhamString+f\"('USER0{i+1}','{choice(usernameList)}{i+1}','123',N'{choice(hotenlist)} {choice(string.ascii_lowercase)}','2002-07-12',N'{choice(DiaChiList)}','001'),\\n\"\n",
    "print(addSanPhamString)\n"
   ]
  },
  {
   "cell_type": "code",
   "execution_count": 9,
   "metadata": {},
   "outputs": [
    {
     "name": "stdout",
     "output_type": "stream",
     "text": [
      "INSERT INTO [dbo].[HoaDon] (MaHoaDon, GhiChu,TongThanhToan,DiaChiGiaoHang,SoDienThoai,MaKhachHang,TrangThaiDonHang,TrangThaiGiaoHang,TrangThaiThanhToan) VALUES ('DH1',N'Đây là ghi chú của đơn hàng 1',360000,N'Đây là địa chỉ giao hàng của đơn số 1','6320600951','USER01', 1,0,1),\n",
      "('DH2',N'Đây là ghi chú của đơn hàng 2',705000,N'Đây là địa chỉ giao hàng của đơn số 2','3871288026','USER08', 1,1,0),\n",
      "('DH3',N'Đây là ghi chú của đơn hàng 3',700000,N'Đây là địa chỉ giao hàng của đơn số 3','6777238724','USER04', 1,1,0),\n",
      "('DH4',N'Đây là ghi chú của đơn hàng 4',985000,N'Đây là địa chỉ giao hàng của đơn số 4','4356049876','USER09', 1,0,1),\n",
      "('DH5',N'Đây là ghi chú của đơn hàng 5',255000,N'Đây là địa chỉ giao hàng của đơn số 5','7232894765','USER01', 1,1,1),\n",
      "('DH6',N'Đây là ghi chú của đơn hàng 6',855000,N'Đây là địa chỉ giao hàng của đơn số 6','4624022618','USER03', 0,1,1),\n",
      "('DH7',N'Đây là ghi chú của đơn hàng 7',805000,N'Đây là địa chỉ giao hàng của đơn số 7','6356245908','USER02', 1,1,1),\n",
      "('DH8',N'Đây là ghi chú của đơn hàng 8',740000,N'Đây là địa chỉ giao hàng của đơn số 8','5232787384','USER00', 1,1,1),\n",
      "('DH9',N'Đây là ghi chú của đơn hàng 9',365000,N'Đây là địa chỉ giao hàng của đơn số 9','9351497550','USER016', 1,0,1),\n",
      "('DH10',N'Đây là ghi chú của đơn hàng 10',715000,N'Đây là địa chỉ giao hàng của đơn số 10','4712983760','USER09', 0,0,0),\n",
      "('DH11',N'Đây là ghi chú của đơn hàng 11',630000,N'Đây là địa chỉ giao hàng của đơn số 11','5636984148','USER015', 0,1,0),\n",
      "('DH12',N'Đây là ghi chú của đơn hàng 12',455000,N'Đây là địa chỉ giao hàng của đơn số 12','3406952030','USER020', 1,1,1),\n",
      "('DH13',N'Đây là ghi chú của đơn hàng 13',325000,N'Đây là địa chỉ giao hàng của đơn số 13','6712924345','USER05', 1,1,1),\n",
      "('DH14',N'Đây là ghi chú của đơn hàng 14',325000,N'Đây là địa chỉ giao hàng của đơn số 14','6822116424','USER014', 0,1,0),\n",
      "('DH15',N'Đây là ghi chú của đơn hàng 15',845000,N'Đây là địa chỉ giao hàng của đơn số 15','3337099113','USER010', 0,1,1),\n",
      "('DH16',N'Đây là ghi chú của đơn hàng 16',825000,N'Đây là địa chỉ giao hàng của đơn số 16','9765385336','USER08', 1,1,0),\n",
      "('DH17',N'Đây là ghi chú của đơn hàng 17',850000,N'Đây là địa chỉ giao hàng của đơn số 17','4355137651','USER010', 0,0,1),\n",
      "('DH18',N'Đây là ghi chú của đơn hàng 18',470000,N'Đây là địa chỉ giao hàng của đơn số 18','5360248638','USER019', 1,1,0),\n",
      "('DH19',N'Đây là ghi chú của đơn hàng 19',990000,N'Đây là địa chỉ giao hàng của đơn số 19','5466350248','USER014', 0,0,0),\n",
      "('DH20',N'Đây là ghi chú của đơn hàng 20',665000,N'Đây là địa chỉ giao hàng của đơn số 20','9854072217','USER03', 0,1,0),\n",
      "\n"
     ]
    }
   ],
   "source": [
    "soLuongDongHang=20\n",
    "\n",
    "addSanPhamString=\"INSERT INTO [dbo].[HoaDon] (MaHoaDon, GhiChu,TongThanhToan,DiaChiGiaoHang,SoDienThoai,MaKhachHang,TrangThaiDonHang,TrangThaiGiaoHang,TrangThaiThanhToan) VALUES \\n\"\n",
    "for i in range(0,soLuongNguoiDung):\n",
    "    addSanPhamString=addSanPhamString+f\"('DH{i+1}',N'Đây là ghi chú của đơn hàng {i+1}',{randint(50,200)*5000},N'Đây là địa chỉ giao hàng của đơn số {i+1}','{randint(1000000000,9999999999)}','USER0{randint(0,soLuongNguoiDung)}', {randint(0,1)},{randint(0,1)},{randint(0,1)}),\\n\"\n",
    "print(addSanPhamString)"
   ]
  }
 ],
 "metadata": {
  "kernelspec": {
   "display_name": "Python 3",
   "language": "python",
   "name": "python3"
  },
  "language_info": {
   "codemirror_mode": {
    "name": "ipython",
    "version": 3
   },
   "file_extension": ".py",
   "mimetype": "text/x-python",
   "name": "python",
   "nbconvert_exporter": "python",
   "pygments_lexer": "ipython3",
   "version": "3.11.0 (main, Oct 24 2022, 18:26:48) [MSC v.1933 64 bit (AMD64)]"
  },
  "orig_nbformat": 4,
  "vscode": {
   "interpreter": {
    "hash": "8a5edab282632443219e051e4ade2d1d5bbc671c781051bf1437897cbdfea0f1"
   }
  }
 },
 "nbformat": 4,
 "nbformat_minor": 2
}
