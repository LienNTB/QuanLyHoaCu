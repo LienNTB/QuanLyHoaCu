{
 "cells": [
  {
   "cell_type": "code",
   "execution_count": 2,
   "metadata": {},
   "outputs": [],
   "source": [
    "from random import *\n",
    "import string"
   ]
  },
  {
   "attachments": {},
   "cell_type": "markdown",
   "metadata": {},
   "source": []
  },
  {
   "cell_type": "code",
   "execution_count": 4,
   "metadata": {},
   "outputs": [
    {
     "name": "stdout",
     "output_type": "stream",
     "text": [
      "INSERT INTO [dbo].[SanPham] (MaSP, TenSP,Gia,ChiTiet,Hinh,MaLoaiSP) VALUES \n",
      "('SP0001',N'Tên sản phẩm số 1',95000,N'Đây là chi tiết của sản phẩm số 1','https://ss-images.saostar.vn/fb1200png_2/pc/1621182513872/saostar-nkbtidr1bgh570a1.jpg/fbsscover.png','lsp02'),\n",
      "('SP0002',N'Tên sản phẩm số 2',15000,N'Đây là chi tiết của sản phẩm số 2','https://ecdn.game4v.com/g4v-content/uploads/2022/08/21123408/Dragon-Ball-Super-01-game4v-1661060048-74.jpg','lsp03'),\n",
      "('SP0003',N'Tên sản phẩm số 3',5000,N'Đây là chi tiết của sản phẩm số 3','https://toquoc.mediacdn.vn/280518851207290880/2022/7/23/dragon-ball-super-super-hero-peronajes-confirmados-game4v-1649264491-58-1658542494293-16585424943691750246891.jpg','lsp04'),\n",
      "('SP0004',N'Tên sản phẩm số 4',40000,N'Đây là chi tiết của sản phẩm số 4','https://ecdn.game4v.com/g4v-content/uploads/2022/08/21123408/Dragon-Ball-Super-01-game4v-1661060048-74.jpg','lsp03'),\n",
      "('SP0005',N'Tên sản phẩm số 5',80000,N'Đây là chi tiết của sản phẩm số 5','https://ss-images.saostar.vn/fb1200png_2/pc/1621182513872/saostar-nkbtidr1bgh570a1.jpg/fbsscover.png','lsp06'),\n",
      "('SP0006',N'Tên sản phẩm số 6',15000,N'Đây là chi tiết của sản phẩm số 6','https://toquoc.mediacdn.vn/280518851207290880/2022/7/23/dragon-ball-super-super-hero-peronajes-confirmados-game4v-1649264491-58-1658542494293-16585424943691750246891.jpg','lsp06'),\n",
      "('SP0007',N'Tên sản phẩm số 7',70000,N'Đây là chi tiết của sản phẩm số 7','https://ecdn.game4v.com/g4v-content/uploads/2022/08/21123408/Dragon-Ball-Super-01-game4v-1661060048-74.jpg','lsp04'),\n",
      "('SP0008',N'Tên sản phẩm số 8',45000,N'Đây là chi tiết của sản phẩm số 8','https://toquoc.mediacdn.vn/280518851207290880/2022/7/23/dragon-ball-super-super-hero-peronajes-confirmados-game4v-1649264491-58-1658542494293-16585424943691750246891.jpg','lsp03'),\n",
      "('SP0009',N'Tên sản phẩm số 9',65000,N'Đây là chi tiết của sản phẩm số 9','https://ecdn.game4v.com/g4v-content/uploads/2020/03/dbs-2.jpg','lsp04'),\n",
      "('SP00010',N'Tên sản phẩm số 10',70000,N'Đây là chi tiết của sản phẩm số 10','https://ecdn.game4v.com/g4v-content/uploads/2022/08/21123408/Dragon-Ball-Super-01-game4v-1661060048-74.jpg','lsp01'),\n",
      "('SP00011',N'Tên sản phẩm số 11',90000,N'Đây là chi tiết của sản phẩm số 11','https://ss-images.saostar.vn/fb1200png_2/pc/1621182513872/saostar-nkbtidr1bgh570a1.jpg/fbsscover.png','lsp01'),\n",
      "('SP00012',N'Tên sản phẩm số 12',5000,N'Đây là chi tiết của sản phẩm số 12','https://ecdn.game4v.com/g4v-content/uploads/2020/03/dbs-2.jpg','lsp05'),\n",
      "('SP00013',N'Tên sản phẩm số 13',45000,N'Đây là chi tiết của sản phẩm số 13','https://ecdn.game4v.com/g4v-content/uploads/2022/08/21123408/Dragon-Ball-Super-01-game4v-1661060048-74.jpg','lsp04'),\n",
      "('SP00014',N'Tên sản phẩm số 14',65000,N'Đây là chi tiết của sản phẩm số 14','https://static.bandainamcoent.eu/high/dragon-ball/dragonball-project-z/00-page-setup/dbzk_game-thumbnail.jpg','lsp06'),\n",
      "('SP00015',N'Tên sản phẩm số 15',5000,N'Đây là chi tiết của sản phẩm số 15','https://ecdn.game4v.com/g4v-content/uploads/2022/08/21123408/Dragon-Ball-Super-01-game4v-1661060048-74.jpg','lsp02'),\n",
      "('SP00016',N'Tên sản phẩm số 16',65000,N'Đây là chi tiết của sản phẩm số 16','https://toquoc.mediacdn.vn/280518851207290880/2022/7/23/dragon-ball-super-super-hero-peronajes-confirmados-game4v-1649264491-58-1658542494293-16585424943691750246891.jpg','lsp06'),\n",
      "('SP00017',N'Tên sản phẩm số 17',20000,N'Đây là chi tiết của sản phẩm số 17','https://ecdn.game4v.com/g4v-content/uploads/2022/08/21123408/Dragon-Ball-Super-01-game4v-1661060048-74.jpg','lsp02'),\n",
      "('SP00018',N'Tên sản phẩm số 18',70000,N'Đây là chi tiết của sản phẩm số 18','https://static.bandainamcoent.eu/high/dragon-ball/dragonball-project-z/00-page-setup/dbzk_game-thumbnail.jpg','lsp02'),\n",
      "('SP00019',N'Tên sản phẩm số 19',85000,N'Đây là chi tiết của sản phẩm số 19','https://ecdn.game4v.com/g4v-content/uploads/2020/03/dbs-2.jpg','lsp05'),\n",
      "('SP00020',N'Tên sản phẩm số 20',25000,N'Đây là chi tiết của sản phẩm số 20','https://static.bandainamcoent.eu/high/dragon-ball/dragonball-project-z/00-page-setup/dbzk_game-thumbnail.jpg','lsp01'),\n",
      "('SP00021',N'Tên sản phẩm số 21',75000,N'Đây là chi tiết của sản phẩm số 21','https://ecdn.game4v.com/g4v-content/uploads/2020/03/dbs-2.jpg','lsp05'),\n",
      "('SP00022',N'Tên sản phẩm số 22',5000,N'Đây là chi tiết của sản phẩm số 22','https://ecdn.game4v.com/g4v-content/uploads/2020/03/dbs-2.jpg','lsp06'),\n",
      "('SP00023',N'Tên sản phẩm số 23',95000,N'Đây là chi tiết của sản phẩm số 23','https://static.bandainamcoent.eu/high/dragon-ball/dragonball-project-z/00-page-setup/dbzk_game-thumbnail.jpg','lsp05'),\n",
      "('SP00024',N'Tên sản phẩm số 24',85000,N'Đây là chi tiết của sản phẩm số 24','https://toquoc.mediacdn.vn/280518851207290880/2022/7/23/dragon-ball-super-super-hero-peronajes-confirmados-game4v-1649264491-58-1658542494293-16585424943691750246891.jpg','lsp06'),\n",
      "('SP00025',N'Tên sản phẩm số 25',40000,N'Đây là chi tiết của sản phẩm số 25','https://ss-images.saostar.vn/fb1200png_2/pc/1621182513872/saostar-nkbtidr1bgh570a1.jpg/fbsscover.png','lsp02'),\n",
      "('SP00026',N'Tên sản phẩm số 26',60000,N'Đây là chi tiết của sản phẩm số 26','https://toquoc.mediacdn.vn/280518851207290880/2022/7/23/dragon-ball-super-super-hero-peronajes-confirmados-game4v-1649264491-58-1658542494293-16585424943691750246891.jpg','lsp02'),\n",
      "('SP00027',N'Tên sản phẩm số 27',55000,N'Đây là chi tiết của sản phẩm số 27','https://toquoc.mediacdn.vn/280518851207290880/2022/7/23/dragon-ball-super-super-hero-peronajes-confirmados-game4v-1649264491-58-1658542494293-16585424943691750246891.jpg','lsp04'),\n",
      "('SP00028',N'Tên sản phẩm số 28',85000,N'Đây là chi tiết của sản phẩm số 28','https://ss-images.saostar.vn/fb1200png_2/pc/1621182513872/saostar-nkbtidr1bgh570a1.jpg/fbsscover.png','lsp04'),\n",
      "('SP00029',N'Tên sản phẩm số 29',55000,N'Đây là chi tiết của sản phẩm số 29','https://toquoc.mediacdn.vn/280518851207290880/2022/7/23/dragon-ball-super-super-hero-peronajes-confirmados-game4v-1649264491-58-1658542494293-16585424943691750246891.jpg','lsp01'),\n",
      "('SP00030',N'Tên sản phẩm số 30',50000,N'Đây là chi tiết của sản phẩm số 30','https://toquoc.mediacdn.vn/280518851207290880/2022/7/23/dragon-ball-super-super-hero-peronajes-confirmados-game4v-1649264491-58-1658542494293-16585424943691750246891.jpg','lsp02'),\n",
      "('SP00031',N'Tên sản phẩm số 31',70000,N'Đây là chi tiết của sản phẩm số 31','https://ss-images.saostar.vn/fb1200png_2/pc/1621182513872/saostar-nkbtidr1bgh570a1.jpg/fbsscover.png','lsp04'),\n",
      "('SP00032',N'Tên sản phẩm số 32',100000,N'Đây là chi tiết của sản phẩm số 32','https://ss-images.saostar.vn/fb1200png_2/pc/1621182513872/saostar-nkbtidr1bgh570a1.jpg/fbsscover.png','lsp05'),\n",
      "('SP00033',N'Tên sản phẩm số 33',30000,N'Đây là chi tiết của sản phẩm số 33','https://ecdn.game4v.com/g4v-content/uploads/2022/08/21123408/Dragon-Ball-Super-01-game4v-1661060048-74.jpg','lsp02'),\n",
      "('SP00034',N'Tên sản phẩm số 34',10000,N'Đây là chi tiết của sản phẩm số 34','https://static.bandainamcoent.eu/high/dragon-ball/dragonball-project-z/00-page-setup/dbzk_game-thumbnail.jpg','lsp05'),\n",
      "('SP00035',N'Tên sản phẩm số 35',95000,N'Đây là chi tiết của sản phẩm số 35','https://static.bandainamcoent.eu/high/dragon-ball/dragonball-project-z/00-page-setup/dbzk_game-thumbnail.jpg','lsp05'),\n",
      "('SP00036',N'Tên sản phẩm số 36',40000,N'Đây là chi tiết của sản phẩm số 36','https://ecdn.game4v.com/g4v-content/uploads/2020/03/dbs-2.jpg','lsp01'),\n",
      "('SP00037',N'Tên sản phẩm số 37',20000,N'Đây là chi tiết của sản phẩm số 37','https://ecdn.game4v.com/g4v-content/uploads/2022/08/21123408/Dragon-Ball-Super-01-game4v-1661060048-74.jpg','lsp05'),\n",
      "('SP00038',N'Tên sản phẩm số 38',25000,N'Đây là chi tiết của sản phẩm số 38','https://ecdn.game4v.com/g4v-content/uploads/2022/08/21123408/Dragon-Ball-Super-01-game4v-1661060048-74.jpg','lsp04'),\n",
      "('SP00039',N'Tên sản phẩm số 39',60000,N'Đây là chi tiết của sản phẩm số 39','https://ecdn.game4v.com/g4v-content/uploads/2020/03/dbs-2.jpg','lsp04'),\n",
      "('SP00040',N'Tên sản phẩm số 40',10000,N'Đây là chi tiết của sản phẩm số 40','https://toquoc.mediacdn.vn/280518851207290880/2022/7/23/dragon-ball-super-super-hero-peronajes-confirmados-game4v-1649264491-58-1658542494293-16585424943691750246891.jpg','lsp05'),\n",
      "('SP00041',N'Tên sản phẩm số 41',60000,N'Đây là chi tiết của sản phẩm số 41','https://static.bandainamcoent.eu/high/dragon-ball/dragonball-project-z/00-page-setup/dbzk_game-thumbnail.jpg','lsp02'),\n",
      "('SP00042',N'Tên sản phẩm số 42',65000,N'Đây là chi tiết của sản phẩm số 42','https://toquoc.mediacdn.vn/280518851207290880/2022/7/23/dragon-ball-super-super-hero-peronajes-confirmados-game4v-1649264491-58-1658542494293-16585424943691750246891.jpg','lsp04'),\n",
      "('SP00043',N'Tên sản phẩm số 43',95000,N'Đây là chi tiết của sản phẩm số 43','https://toquoc.mediacdn.vn/280518851207290880/2022/7/23/dragon-ball-super-super-hero-peronajes-confirmados-game4v-1649264491-58-1658542494293-16585424943691750246891.jpg','lsp02'),\n",
      "('SP00044',N'Tên sản phẩm số 44',50000,N'Đây là chi tiết của sản phẩm số 44','https://ecdn.game4v.com/g4v-content/uploads/2020/03/dbs-2.jpg','lsp05'),\n",
      "('SP00045',N'Tên sản phẩm số 45',45000,N'Đây là chi tiết của sản phẩm số 45','https://ss-images.saostar.vn/fb1200png_2/pc/1621182513872/saostar-nkbtidr1bgh570a1.jpg/fbsscover.png','lsp04'),\n",
      "('SP00046',N'Tên sản phẩm số 46',45000,N'Đây là chi tiết của sản phẩm số 46','https://ecdn.game4v.com/g4v-content/uploads/2022/08/21123408/Dragon-Ball-Super-01-game4v-1661060048-74.jpg','lsp04'),\n",
      "('SP00047',N'Tên sản phẩm số 47',55000,N'Đây là chi tiết của sản phẩm số 47','https://ecdn.game4v.com/g4v-content/uploads/2022/08/21123408/Dragon-Ball-Super-01-game4v-1661060048-74.jpg','lsp04'),\n",
      "('SP00048',N'Tên sản phẩm số 48',70000,N'Đây là chi tiết của sản phẩm số 48','https://toquoc.mediacdn.vn/280518851207290880/2022/7/23/dragon-ball-super-super-hero-peronajes-confirmados-game4v-1649264491-58-1658542494293-16585424943691750246891.jpg','lsp02'),\n",
      "('SP00049',N'Tên sản phẩm số 49',65000,N'Đây là chi tiết của sản phẩm số 49','https://ecdn.game4v.com/g4v-content/uploads/2020/03/dbs-2.jpg','lsp06'),\n",
      "('SP00050',N'Tên sản phẩm số 50',5000,N'Đây là chi tiết của sản phẩm số 50','https://static.bandainamcoent.eu/high/dragon-ball/dragonball-project-z/00-page-setup/dbzk_game-thumbnail.jpg','lsp05'),\n",
      "\n"
     ]
    }
   ],
   "source": [
    "soLuongMaLoai=6\n",
    "maLSPList=[]\n",
    "listImage=[\"https://ss-images.saostar.vn/fb1200png_2/pc/1621182513872/saostar-nkbtidr1bgh570a1.jpg/fbsscover.png\", \"https://ecdn.game4v.com/g4v-content/uploads/2020/03/dbs-2.jpg\", \"https://toquoc.mediacdn.vn/280518851207290880/2022/7/23/dragon-ball-super-super-hero-peronajes-confirmados-game4v-1649264491-58-1658542494293-16585424943691750246891.jpg\", \"https://static.bandainamcoent.eu/high/dragon-ball/dragonball-project-z/00-page-setup/dbzk_game-thumbnail.jpg\", \"https://ecdn.game4v.com/g4v-content/uploads/2022/08/21123408/Dragon-Ball-Super-01-game4v-1661060048-74.jpg\"]\n",
    "for i in range(0,soLuongMaLoai):\n",
    "    maLSPList.append(f\"lsp0{i+1}\")\n",
    "soLuongSanPham=50\n",
    "addSanPhamString=\"INSERT INTO [dbo].[SanPham] (MaSP, TenSP,Gia,ChiTiet,Hinh,MaLoaiSP) VALUES \\n\"\n",
    "for i in range(0,soLuongSanPham):\n",
    "    addSanPhamString=addSanPhamString+f\"('SP000{i+1}',N'Tên sản phẩm số {i+1}',{randint(1,20)*5000},N'Đây là chi tiết của sản phẩm số {i+1}','{choice(listImage)}','{choice(maLSPList)}'),\\n\"\n",
    "print(addSanPhamString)\n"
   ]
  },
  {
   "cell_type": "code",
   "execution_count": 5,
   "metadata": {},
   "outputs": [
    {
     "name": "stdout",
     "output_type": "stream",
     "text": [
      "INSERT INTO [dbo].[NguoiDung] (MaNguoiDung, TenDangNhap,MatKhau,HoTen,NgaySinh,DiChi,RoleID) VALUES ('USER01','ngocphat1','123',N'Nguyễn Văn u','2002-07-12',N'Bình Chánh','001'),\n",
      "('USER02','aido2','123',N'Nguyễn Thị d','2002-07-12',N'Quận 9','001'),\n",
      "('USER03','ngocphat3','123',N'Nguyễn Ngọc l','2002-07-12',N'Quận 1','001'),\n",
      "('USER04','aido4','123',N'Nguyễn Ngọc g','2002-07-12',N'Thủ Đức','001'),\n",
      "('USER05','quynhhuong5','123',N'Nguyễn Thị p','2002-07-12',N'Quận 1','001'),\n",
      "('USER06','quynhhuong6','123',N'Nguyễn Ngọc f','2002-07-12',N'Bình Chánh','001'),\n",
      "('USER07','ngocphat7','123',N'Nguyễn Văn w','2002-07-12',N'Quận 9','001'),\n",
      "('USER08','bichlien8','123',N'Nguyễn Thị k','2002-07-12',N'Quận 2','001'),\n",
      "('USER09','aido9','123',N'Nguyễn Văn e','2002-07-12',N'Quận 9','001'),\n",
      "('USER010','aido10','123',N'Nguyễn Ngọc v','2002-07-12',N'Quận 9','001'),\n",
      "('USER011','bichlien11','123',N'Nguyễn Thị t','2002-07-12',N'Quận 2','001'),\n",
      "('USER012','aido12','123',N'Nguyễn Ngọc d','2002-07-12',N'Quận 1','001'),\n",
      "('USER013','quynhhuong13','123',N'Nguyễn Văn j','2002-07-12',N'Quận 1','001'),\n",
      "('USER014','quynhhuong14','123',N'Nguyễn Thị n','2002-07-12',N'Quận 9','001'),\n",
      "('USER015','quynhhuong15','123',N'Nguyễn Ngọc k','2002-07-12',N'Quận 2','001'),\n",
      "('USER016','bichlien16','123',N'Nguyễn Văn o','2002-07-12',N'Thủ Đức','001'),\n",
      "('USER017','aido17','123',N'Nguyễn Văn q','2002-07-12',N'Bình Chánh','001'),\n",
      "('USER018','quynhhuong18','123',N'Nguyễn Thị n','2002-07-12',N'Bình Chánh','001'),\n",
      "('USER019','bichlien19','123',N'Nguyễn Ngọc c','2002-07-12',N'Quận 2','001'),\n",
      "('USER020','bichlien20','123',N'Nguyễn Văn s','2002-07-12',N'Bình Chánh','001'),\n",
      "\n"
     ]
    }
   ],
   "source": [
    "soLuongNguoiDung=20\n",
    "usernameList=[\"ngocphat\",\"aido\", \"quynhhuong\",\"bichlien\"]\n",
    "hotenlist=[\"Nguyễn Ngọc\",\"Nguyễn Thị\", \"Nguyễn Văn\"]\n",
    "DiaChiList = ['Thủ Đức', \"Quận 9\", \"Quận 2\", \"Quận 1\", \"Bình Chánh\"]\n",
    "addSanPhamString=\"INSERT INTO [dbo].[NguoiDung] (MaNguoiDung, TenDangNhap,MatKhau,HoTen,NgaySinh,DiChi,RoleID) VALUES \"\n",
    "for i in range(0,soLuongNguoiDung):\n",
    "    addSanPhamString=addSanPhamString+f\"('USER0{i+1}','{choice(usernameList)}{i+1}','123',N'{choice(hotenlist)} {choice(string.ascii_lowercase)}','2002-07-12',N'{choice(DiaChiList)}','001'),\\n\"\n",
    "print(addSanPhamString)\n"
   ]
  },
  {
   "cell_type": "code",
   "execution_count": 9,
   "metadata": {},
   "outputs": [
    {
     "name": "stdout",
     "output_type": "stream",
     "text": [
      "INSERT INTO [dbo].[HoaDon] (MaHoaDon, GhiChu,TongThanhToan,DiaChiGiaoHang,SoDienThoai,MaKhachHang,TrangThaiDonHang,TrangThaiGiaoHang,TrangThaiThanhToan) VALUES ('DH1',N'Đây là ghi chú của đơn hàng 1',360000,N'Đây là địa chỉ giao hàng của đơn số 1','6320600951','USER01', 1,0,1),\n",
      "('DH2',N'Đây là ghi chú của đơn hàng 2',705000,N'Đây là địa chỉ giao hàng của đơn số 2','3871288026','USER08', 1,1,0),\n",
      "('DH3',N'Đây là ghi chú của đơn hàng 3',700000,N'Đây là địa chỉ giao hàng của đơn số 3','6777238724','USER04', 1,1,0),\n",
      "('DH4',N'Đây là ghi chú của đơn hàng 4',985000,N'Đây là địa chỉ giao hàng của đơn số 4','4356049876','USER09', 1,0,1),\n",
      "('DH5',N'Đây là ghi chú của đơn hàng 5',255000,N'Đây là địa chỉ giao hàng của đơn số 5','7232894765','USER01', 1,1,1),\n",
      "('DH6',N'Đây là ghi chú của đơn hàng 6',855000,N'Đây là địa chỉ giao hàng của đơn số 6','4624022618','USER03', 0,1,1),\n",
      "('DH7',N'Đây là ghi chú của đơn hàng 7',805000,N'Đây là địa chỉ giao hàng của đơn số 7','6356245908','USER02', 1,1,1),\n",
      "('DH8',N'Đây là ghi chú của đơn hàng 8',740000,N'Đây là địa chỉ giao hàng của đơn số 8','5232787384','USER00', 1,1,1),\n",
      "('DH9',N'Đây là ghi chú của đơn hàng 9',365000,N'Đây là địa chỉ giao hàng của đơn số 9','9351497550','USER016', 1,0,1),\n",
      "('DH10',N'Đây là ghi chú của đơn hàng 10',715000,N'Đây là địa chỉ giao hàng của đơn số 10','4712983760','USER09', 0,0,0),\n",
      "('DH11',N'Đây là ghi chú của đơn hàng 11',630000,N'Đây là địa chỉ giao hàng của đơn số 11','5636984148','USER015', 0,1,0),\n",
      "('DH12',N'Đây là ghi chú của đơn hàng 12',455000,N'Đây là địa chỉ giao hàng của đơn số 12','3406952030','USER020', 1,1,1),\n",
      "('DH13',N'Đây là ghi chú của đơn hàng 13',325000,N'Đây là địa chỉ giao hàng của đơn số 13','6712924345','USER05', 1,1,1),\n",
      "('DH14',N'Đây là ghi chú của đơn hàng 14',325000,N'Đây là địa chỉ giao hàng của đơn số 14','6822116424','USER014', 0,1,0),\n",
      "('DH15',N'Đây là ghi chú của đơn hàng 15',845000,N'Đây là địa chỉ giao hàng của đơn số 15','3337099113','USER010', 0,1,1),\n",
      "('DH16',N'Đây là ghi chú của đơn hàng 16',825000,N'Đây là địa chỉ giao hàng của đơn số 16','9765385336','USER08', 1,1,0),\n",
      "('DH17',N'Đây là ghi chú của đơn hàng 17',850000,N'Đây là địa chỉ giao hàng của đơn số 17','4355137651','USER010', 0,0,1),\n",
      "('DH18',N'Đây là ghi chú của đơn hàng 18',470000,N'Đây là địa chỉ giao hàng của đơn số 18','5360248638','USER019', 1,1,0),\n",
      "('DH19',N'Đây là ghi chú của đơn hàng 19',990000,N'Đây là địa chỉ giao hàng của đơn số 19','5466350248','USER014', 0,0,0),\n",
      "('DH20',N'Đây là ghi chú của đơn hàng 20',665000,N'Đây là địa chỉ giao hàng của đơn số 20','9854072217','USER03', 0,1,0),\n",
      "\n"
     ]
    }
   ],
   "source": [
    "soLuongDongHang=20\n",
    "\n",
    "addSanPhamString=\"INSERT INTO [dbo].[HoaDon] (MaHoaDon, GhiChu,TongThanhToan,DiaChiGiaoHang,SoDienThoai,MaKhachHang,TrangThaiDonHang,TrangThaiGiaoHang,TrangThaiThanhToan) VALUES \\n\"\n",
    "for i in range(0,soLuongNguoiDung):\n",
    "    addSanPhamString=addSanPhamString+f\"('DH{i+1}',N'Đây là ghi chú của đơn hàng {i+1}',{randint(50,200)*5000},N'Đây là địa chỉ giao hàng của đơn số {i+1}','{randint(1000000000,9999999999)}','USER0{randint(0,soLuongNguoiDung)}', {randint(0,1)},{randint(0,1)},{randint(0,1)}),\\n\"\n",
    "print(addSanPhamString)"
   ]
  }
 ],
 "metadata": {
  "kernelspec": {
   "display_name": "Python 3",
   "language": "python",
   "name": "python3"
  },
  "language_info": {
   "codemirror_mode": {
    "name": "ipython",
    "version": 3
   },
   "file_extension": ".py",
   "mimetype": "text/x-python",
   "name": "python",
   "nbconvert_exporter": "python",
   "pygments_lexer": "ipython3",
   "version": "3.11.0"
  },
  "orig_nbformat": 4,
  "vscode": {
   "interpreter": {
    "hash": "b8f1c045f78b66ffd36d203c17afb2663a6b28ec03065c487fadd2d2414608c9"
   }
  }
 },
 "nbformat": 4,
 "nbformat_minor": 2
}
