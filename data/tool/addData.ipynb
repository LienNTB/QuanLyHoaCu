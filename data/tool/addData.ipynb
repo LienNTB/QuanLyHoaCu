{
 "cells": [
  {
   "cell_type": "code",
   "execution_count": 4,
   "metadata": {},
   "outputs": [],
   "source": [
    "from random import *"
   ]
  },
  {
   "attachments": {},
   "cell_type": "markdown",
   "metadata": {},
   "source": []
  },
  {
   "cell_type": "code",
   "execution_count": 7,
   "metadata": {},
   "outputs": [
    {
     "data": {
      "text/plain": [
       "\"\\n\\n\\n\\n\\n\\n\\n\\n\\n\\nINSERT INTO [dbo].[SanPham] (MaSP, TenSP,Gia,ChiTiet,Hinh,MaLoaiSP) VALUES ('SP0001','SanPham1',85000,'ChiTietSanPham1','product01.png','test_lsp02'),('SP0002','SanPham2',70000,'ChiTietSanPham2','product02.png','test_lsp02'),('SP0003','SanPham3',95000,'ChiTietSanPham3','product03.png','test_lsp01'),('SP0004','SanPham4',15000,'ChiTietSanPham4','product04.png','test_lsp03'),('SP0005','SanPham5',40000,'ChiTietSanPham5','product05.png','test_lsp01'),('SP0006','SanPham6',90000,'ChiTietSanPham6','product06.png','test_lsp01'),('SP0007','SanPham7',100000,'ChiTietSanPham7','product07.png','test_lsp02'),('SP0008','SanPham8',70000,'ChiTietSanPham8','product08.png','test_lsp01'),('SP0009','SanPham9',15000,'ChiTietSanPham9','product09.png','test_lsp02'),('SP00010','SanPham10',80000,'ChiTietSanPham10','product010.png','test_lsp01'),\""
      ]
     },
     "execution_count": 7,
     "metadata": {},
     "output_type": "execute_result"
    }
   ],
   "source": [
    "soLuongMaLoai=3\n",
    "soLuongHinhAnhSanPham=9\n",
    "maLSPList=[]\n",
    "for i in range(0,soLuongMaLoai):\n",
    "    maLSPList.append(f\"test_lsp0{i+1}\")\n",
    "soLuongSanPham=10\n",
    "addSanPhamString=\"INSERT INTO [dbo].[SanPham] (MaSP, TenSP,Gia,ChiTiet,Hinh,MaLoaiSP) VALUES \"\n",
    "for i in range(0,soLuongSanPham):\n",
    "    addSanPhamString=\"\\n\"+addSanPhamString+f\"('SP000{i+1}','SanPham{i+1}',{randint(1,20)*5000},'ChiTietSanPham{i+1}','product0{i+1}.png','{choice(maLSPList)}'),\"\n",
    "with open(\"output\")\n"
   ]
  }
 ],
 "metadata": {
  "kernelspec": {
   "display_name": "Python 3",
   "language": "python",
   "name": "python3"
  },
  "language_info": {
   "codemirror_mode": {
    "name": "ipython",
    "version": 3
   },
   "file_extension": ".py",
   "mimetype": "text/x-python",
   "name": "python",
   "nbconvert_exporter": "python",
   "pygments_lexer": "ipython3",
   "version": "3.11.0"
  },
  "orig_nbformat": 4,
  "vscode": {
   "interpreter": {
    "hash": "b8f1c045f78b66ffd36d203c17afb2663a6b28ec03065c487fadd2d2414608c9"
   }
  }
 },
 "nbformat": 4,
 "nbformat_minor": 2
}
